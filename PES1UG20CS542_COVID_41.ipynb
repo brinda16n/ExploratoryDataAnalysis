{
 "cells": [
  {
   "cell_type": "markdown",
   "id": "52c561ec",
   "metadata": {},
   "source": [
    "<h2>Name : Brinda N</h2>"
   ]
  },
  {
   "cell_type": "code",
   "execution_count": null,
   "id": "18661b0c",
   "metadata": {
    "id": "18661b0c"
   },
   "outputs": [],
   "source": [
    "import pandas as pd\n",
    "import numpy as np"
   ]
  },
  {
   "cell_type": "markdown",
   "id": "acddc970",
   "metadata": {
    "id": "acddc970"
   },
   "source": [
    "Loading the dataframe and displaying the first five rows"
   ]
  },
  {
   "cell_type": "code",
   "execution_count": null,
   "id": "ac43a61a",
   "metadata": {
    "id": "ac43a61a",
    "outputId": "e5c1f515-5c5d-4b80-9634-158436b01e12"
   },
   "outputs": [
    {
     "data": {
      "text/html": [
       "<div>\n",
       "<style scoped>\n",
       "    .dataframe tbody tr th:only-of-type {\n",
       "        vertical-align: middle;\n",
       "    }\n",
       "\n",
       "    .dataframe tbody tr th {\n",
       "        vertical-align: top;\n",
       "    }\n",
       "\n",
       "    .dataframe thead th {\n",
       "        text-align: right;\n",
       "    }\n",
       "</style>\n",
       "<table border=\"1\" class=\"dataframe\">\n",
       "  <thead>\n",
       "    <tr style=\"text-align: right;\">\n",
       "      <th></th>\n",
       "      <th>name</th>\n",
       "      <th>region</th>\n",
       "      <th>cases</th>\n",
       "      <th>cases100k</th>\n",
       "      <th>cases7days</th>\n",
       "      <th>cases7days100k</th>\n",
       "      <th>cases24h</th>\n",
       "      <th>deaths</th>\n",
       "      <th>deaths100k</th>\n",
       "      <th>deaths7days</th>\n",
       "      <th>deaths7days100k</th>\n",
       "      <th>deaths24h</th>\n",
       "    </tr>\n",
       "  </thead>\n",
       "  <tbody>\n",
       "    <tr>\n",
       "      <th>0</th>\n",
       "      <td>Czechia</td>\n",
       "      <td>Europe</td>\n",
       "      <td>56635613.0</td>\n",
       "      <td>17110.32</td>\n",
       "      <td>913428.0</td>\n",
       "      <td>275.96</td>\n",
       "      <td>146115.0</td>\n",
       "      <td>909950.0</td>\n",
       "      <td>274.91</td>\n",
       "      <td>15931.0</td>\n",
       "      <td>4.81</td>\n",
       "      <td>2446.0</td>\n",
       "    </tr>\n",
       "    <tr>\n",
       "      <th>1</th>\n",
       "      <td>Hungary</td>\n",
       "      <td>Europe</td>\n",
       "      <td>43862301.0</td>\n",
       "      <td>3178.41</td>\n",
       "      <td>192520.0</td>\n",
       "      <td>13.95</td>\n",
       "      <td>27491.0</td>\n",
       "      <td>582140.0</td>\n",
       "      <td>42.19</td>\n",
       "      <td>2312.0</td>\n",
       "      <td>0.17</td>\n",
       "      <td>350.0</td>\n",
       "    </tr>\n",
       "    <tr>\n",
       "      <th>2</th>\n",
       "      <td>Saint Vincent and the Grenadines</td>\n",
       "      <td>Americas</td>\n",
       "      <td>27827447.0</td>\n",
       "      <td>13091.61</td>\n",
       "      <td>151858.0</td>\n",
       "      <td>71.44</td>\n",
       "      <td>23141.0</td>\n",
       "      <td>775139.0</td>\n",
       "      <td>364.67</td>\n",
       "      <td>4186.0</td>\n",
       "      <td>1.97</td>\n",
       "      <td>685.0</td>\n",
       "    </tr>\n",
       "    <tr>\n",
       "      <th>3</th>\n",
       "      <td>Togo</td>\n",
       "      <td>Africa</td>\n",
       "      <td>10406234.0</td>\n",
       "      <td>15328.98</td>\n",
       "      <td>309552.0</td>\n",
       "      <td>455.98</td>\n",
       "      <td>51382.0</td>\n",
       "      <td>177719.0</td>\n",
       "      <td>261.79</td>\n",
       "      <td>976.0</td>\n",
       "      <td>1.44</td>\n",
       "      <td>158.0</td>\n",
       "    </tr>\n",
       "    <tr>\n",
       "      <th>4</th>\n",
       "      <td>El Salvador</td>\n",
       "      <td>Americas</td>\n",
       "      <td>9980696.0</td>\n",
       "      <td>6839.16</td>\n",
       "      <td>235129.0</td>\n",
       "      <td>161.12</td>\n",
       "      <td>35237.0</td>\n",
       "      <td>277389.0</td>\n",
       "      <td>190.07</td>\n",
       "      <td>8203.0</td>\n",
       "      <td>5.63</td>\n",
       "      <td>1211.0</td>\n",
       "    </tr>\n",
       "  </tbody>\n",
       "</table>\n",
       "</div>"
      ],
      "text/plain": [
       "                               name    region       cases  cases100k  \\\n",
       "0                           Czechia    Europe  56635613.0   17110.32   \n",
       "1                           Hungary    Europe  43862301.0    3178.41   \n",
       "2  Saint Vincent and the Grenadines  Americas  27827447.0   13091.61   \n",
       "3                              Togo    Africa  10406234.0   15328.98   \n",
       "4                       El Salvador  Americas   9980696.0    6839.16   \n",
       "\n",
       "   cases7days  cases7days100k  cases24h    deaths  deaths100k  deaths7days  \\\n",
       "0    913428.0          275.96  146115.0  909950.0      274.91      15931.0   \n",
       "1    192520.0           13.95   27491.0  582140.0       42.19       2312.0   \n",
       "2    151858.0           71.44   23141.0  775139.0      364.67       4186.0   \n",
       "3    309552.0          455.98   51382.0  177719.0      261.79        976.0   \n",
       "4    235129.0          161.12   35237.0  277389.0      190.07       8203.0   \n",
       "\n",
       "   deaths7days100k  deaths24h  \n",
       "0             4.81     2446.0  \n",
       "1             0.17      350.0  \n",
       "2             1.97      685.0  \n",
       "3             1.44      158.0  \n",
       "4             5.63     1211.0  "
      ]
     },
     "execution_count": 2,
     "metadata": {},
     "output_type": "execute_result"
    }
   ],
   "source": [
    "data = pd.read_csv('41.csv')\n",
    "data.head()"
   ]
  },
  {
   "cell_type": "markdown",
   "id": "322ccd88",
   "metadata": {
    "id": "322ccd88"
   },
   "source": [
    "Adding Fatality Rate Column"
   ]
  },
  {
   "cell_type": "code",
   "execution_count": null,
   "id": "d5d00c9c",
   "metadata": {
    "id": "d5d00c9c"
   },
   "outputs": [],
   "source": [
    "data['fatalityrate'] = data['deaths']/data['cases'] * 100"
   ]
  },
  {
   "cell_type": "code",
   "execution_count": null,
   "id": "363c52b5",
   "metadata": {
    "id": "363c52b5",
    "outputId": "5d950881-9cba-49ad-88a0-6fb053c71c67"
   },
   "outputs": [
    {
     "data": {
      "text/html": [
       "<div>\n",
       "<style scoped>\n",
       "    .dataframe tbody tr th:only-of-type {\n",
       "        vertical-align: middle;\n",
       "    }\n",
       "\n",
       "    .dataframe tbody tr th {\n",
       "        vertical-align: top;\n",
       "    }\n",
       "\n",
       "    .dataframe thead th {\n",
       "        text-align: right;\n",
       "    }\n",
       "</style>\n",
       "<table border=\"1\" class=\"dataframe\">\n",
       "  <thead>\n",
       "    <tr style=\"text-align: right;\">\n",
       "      <th></th>\n",
       "      <th>name</th>\n",
       "      <th>region</th>\n",
       "      <th>cases</th>\n",
       "      <th>cases100k</th>\n",
       "      <th>cases7days</th>\n",
       "      <th>cases7days100k</th>\n",
       "      <th>cases24h</th>\n",
       "      <th>deaths</th>\n",
       "      <th>deaths100k</th>\n",
       "      <th>deaths7days</th>\n",
       "      <th>deaths7days100k</th>\n",
       "      <th>deaths24h</th>\n",
       "      <th>fatalityrate</th>\n",
       "    </tr>\n",
       "  </thead>\n",
       "  <tbody>\n",
       "    <tr>\n",
       "      <th>0</th>\n",
       "      <td>Czechia</td>\n",
       "      <td>Europe</td>\n",
       "      <td>56635613.0</td>\n",
       "      <td>17110.32</td>\n",
       "      <td>913428.0</td>\n",
       "      <td>275.96</td>\n",
       "      <td>146115.0</td>\n",
       "      <td>909950.0</td>\n",
       "      <td>274.91</td>\n",
       "      <td>15931.0</td>\n",
       "      <td>4.81</td>\n",
       "      <td>2446.0</td>\n",
       "      <td>1.606675</td>\n",
       "    </tr>\n",
       "    <tr>\n",
       "      <th>1</th>\n",
       "      <td>Hungary</td>\n",
       "      <td>Europe</td>\n",
       "      <td>43862301.0</td>\n",
       "      <td>3178.41</td>\n",
       "      <td>192520.0</td>\n",
       "      <td>13.95</td>\n",
       "      <td>27491.0</td>\n",
       "      <td>582140.0</td>\n",
       "      <td>42.19</td>\n",
       "      <td>2312.0</td>\n",
       "      <td>0.17</td>\n",
       "      <td>350.0</td>\n",
       "      <td>1.327199</td>\n",
       "    </tr>\n",
       "    <tr>\n",
       "      <th>2</th>\n",
       "      <td>Saint Vincent and the Grenadines</td>\n",
       "      <td>Americas</td>\n",
       "      <td>27827447.0</td>\n",
       "      <td>13091.61</td>\n",
       "      <td>151858.0</td>\n",
       "      <td>71.44</td>\n",
       "      <td>23141.0</td>\n",
       "      <td>775139.0</td>\n",
       "      <td>364.67</td>\n",
       "      <td>4186.0</td>\n",
       "      <td>1.97</td>\n",
       "      <td>685.0</td>\n",
       "      <td>2.785520</td>\n",
       "    </tr>\n",
       "    <tr>\n",
       "      <th>3</th>\n",
       "      <td>Togo</td>\n",
       "      <td>Africa</td>\n",
       "      <td>10406234.0</td>\n",
       "      <td>15328.98</td>\n",
       "      <td>309552.0</td>\n",
       "      <td>455.98</td>\n",
       "      <td>51382.0</td>\n",
       "      <td>177719.0</td>\n",
       "      <td>261.79</td>\n",
       "      <td>976.0</td>\n",
       "      <td>1.44</td>\n",
       "      <td>158.0</td>\n",
       "      <td>1.707813</td>\n",
       "    </tr>\n",
       "    <tr>\n",
       "      <th>4</th>\n",
       "      <td>El Salvador</td>\n",
       "      <td>Americas</td>\n",
       "      <td>9980696.0</td>\n",
       "      <td>6839.16</td>\n",
       "      <td>235129.0</td>\n",
       "      <td>161.12</td>\n",
       "      <td>35237.0</td>\n",
       "      <td>277389.0</td>\n",
       "      <td>190.07</td>\n",
       "      <td>8203.0</td>\n",
       "      <td>5.63</td>\n",
       "      <td>1211.0</td>\n",
       "      <td>2.779255</td>\n",
       "    </tr>\n",
       "  </tbody>\n",
       "</table>\n",
       "</div>"
      ],
      "text/plain": [
       "                               name    region       cases  cases100k  \\\n",
       "0                           Czechia    Europe  56635613.0   17110.32   \n",
       "1                           Hungary    Europe  43862301.0    3178.41   \n",
       "2  Saint Vincent and the Grenadines  Americas  27827447.0   13091.61   \n",
       "3                              Togo    Africa  10406234.0   15328.98   \n",
       "4                       El Salvador  Americas   9980696.0    6839.16   \n",
       "\n",
       "   cases7days  cases7days100k  cases24h    deaths  deaths100k  deaths7days  \\\n",
       "0    913428.0          275.96  146115.0  909950.0      274.91      15931.0   \n",
       "1    192520.0           13.95   27491.0  582140.0       42.19       2312.0   \n",
       "2    151858.0           71.44   23141.0  775139.0      364.67       4186.0   \n",
       "3    309552.0          455.98   51382.0  177719.0      261.79        976.0   \n",
       "4    235129.0          161.12   35237.0  277389.0      190.07       8203.0   \n",
       "\n",
       "   deaths7days100k  deaths24h  fatalityrate  \n",
       "0             4.81     2446.0      1.606675  \n",
       "1             0.17      350.0      1.327199  \n",
       "2             1.97      685.0      2.785520  \n",
       "3             1.44      158.0      1.707813  \n",
       "4             5.63     1211.0      2.779255  "
      ]
     },
     "execution_count": 4,
     "metadata": {},
     "output_type": "execute_result"
    }
   ],
   "source": [
    "data.head()"
   ]
  },
  {
   "cell_type": "markdown",
   "id": "ff889964",
   "metadata": {
    "id": "ff889964"
   },
   "source": [
    "<ul>\n",
    "<li>I have imported DictReader from the csv module</li>\n",
    "<li>row is a dictionary which contains the column name as the key and  the corresponding entry as the value</li>\n",
    "<li>Then I create a dictionary with the region name as the key and the number of cases reported in the last 24hours as the value</li>\n",
    "<li>I use the seaborn library to plot a bar graph</li>\n",
    "</ul>"
   ]
  },
  {
   "cell_type": "code",
   "execution_count": null,
   "id": "e3da32be",
   "metadata": {
    "id": "e3da32be"
   },
   "outputs": [],
   "source": [
    "from csv import DictReader\n",
    "import codecs\n",
    "data_rdr = DictReader(codecs.iterdecode(open('41.csv','rb'),'utf-8'))\n",
    "data_rows = [d for d in data_rdr]"
   ]
  },
  {
   "cell_type": "code",
   "execution_count": null,
   "id": "4c27d8ab",
   "metadata": {
    "id": "4c27d8ab"
   },
   "outputs": [],
   "source": [
    "mydict = dict()\n",
    "for row in data_rows:\n",
    "    if row['region'] in mydict:\n",
    "        mydict[row['region']] += float(row['cases24h'])\n",
    "    else:\n",
    "        mydict[row['region']] = float(row['cases24h'])"
   ]
  },
  {
   "cell_type": "code",
   "execution_count": null,
   "id": "516df878",
   "metadata": {
    "id": "516df878",
    "outputId": "61440a31-52af-42c2-8efb-f9e20885d4dd",
    "scrolled": true
   },
   "outputs": [
    {
     "data": {
      "text/plain": [
       "{'Europe': 255186.0,\n",
       " 'Americas': 140895.0,\n",
       " 'Africa': 74957.0,\n",
       " 'Eastern Mediterranean': 60649.0,\n",
       " 'South-East Asia': 27157.0,\n",
       " 'Western Pacific': 24388.0}"
      ]
     },
     "execution_count": 10,
     "metadata": {},
     "output_type": "execute_result"
    }
   ],
   "source": [
    "mydict"
   ]
  },
  {
   "cell_type": "code",
   "execution_count": null,
   "id": "f749d1f1",
   "metadata": {
    "id": "f749d1f1"
   },
   "outputs": [],
   "source": [
    "l1 = mydict.keys()\n",
    "l2 = mydict.values()\n",
    "s1 = pd.Series(l1)\n",
    "s2 = pd.Series(l2)"
   ]
  },
  {
   "cell_type": "code",
   "execution_count": null,
   "id": "1b0535ad",
   "metadata": {
    "id": "1b0535ad",
    "outputId": "21173eee-b456-4d36-9c0f-396d0aa3a949"
   },
   "outputs": [
    {
     "data": {
      "text/plain": [
       "0                   Europe\n",
       "1                 Americas\n",
       "2                   Africa\n",
       "3    Eastern Mediterranean\n",
       "4          South-East Asia\n",
       "5          Western Pacific\n",
       "dtype: object"
      ]
     },
     "execution_count": 13,
     "metadata": {},
     "output_type": "execute_result"
    }
   ],
   "source": [
    "s1"
   ]
  },
  {
   "cell_type": "code",
   "execution_count": null,
   "id": "c8513031",
   "metadata": {
    "id": "c8513031",
    "outputId": "ffc97589-22bc-4c0a-f683-e306740df722"
   },
   "outputs": [
    {
     "data": {
      "text/plain": [
       "0    255186.0\n",
       "1    140895.0\n",
       "2     74957.0\n",
       "3     60649.0\n",
       "4     27157.0\n",
       "5     24388.0\n",
       "dtype: float64"
      ]
     },
     "execution_count": 14,
     "metadata": {},
     "output_type": "execute_result"
    }
   ],
   "source": [
    "s2"
   ]
  },
  {
   "cell_type": "code",
   "execution_count": null,
   "id": "92f2a333",
   "metadata": {
    "id": "92f2a333",
    "outputId": "138f20be-3cac-49cb-ddd0-491a7bff3f37",
    "scrolled": true
   },
   "outputs": [
    {
     "data": {
      "text/html": [
       "<div>\n",
       "<style scoped>\n",
       "    .dataframe tbody tr th:only-of-type {\n",
       "        vertical-align: middle;\n",
       "    }\n",
       "\n",
       "    .dataframe tbody tr th {\n",
       "        vertical-align: top;\n",
       "    }\n",
       "\n",
       "    .dataframe thead th {\n",
       "        text-align: right;\n",
       "    }\n",
       "</style>\n",
       "<table border=\"1\" class=\"dataframe\">\n",
       "  <thead>\n",
       "    <tr style=\"text-align: right;\">\n",
       "      <th></th>\n",
       "      <th>region</th>\n",
       "      <th>cases24h</th>\n",
       "    </tr>\n",
       "  </thead>\n",
       "  <tbody>\n",
       "    <tr>\n",
       "      <th>0</th>\n",
       "      <td>Europe</td>\n",
       "      <td>255186.0</td>\n",
       "    </tr>\n",
       "    <tr>\n",
       "      <th>1</th>\n",
       "      <td>Americas</td>\n",
       "      <td>140895.0</td>\n",
       "    </tr>\n",
       "    <tr>\n",
       "      <th>2</th>\n",
       "      <td>Africa</td>\n",
       "      <td>74957.0</td>\n",
       "    </tr>\n",
       "    <tr>\n",
       "      <th>3</th>\n",
       "      <td>Eastern Mediterranean</td>\n",
       "      <td>60649.0</td>\n",
       "    </tr>\n",
       "    <tr>\n",
       "      <th>4</th>\n",
       "      <td>South-East Asia</td>\n",
       "      <td>27157.0</td>\n",
       "    </tr>\n",
       "    <tr>\n",
       "      <th>5</th>\n",
       "      <td>Western Pacific</td>\n",
       "      <td>24388.0</td>\n",
       "    </tr>\n",
       "  </tbody>\n",
       "</table>\n",
       "</div>"
      ],
      "text/plain": [
       "                  region  cases24h\n",
       "0                 Europe  255186.0\n",
       "1               Americas  140895.0\n",
       "2                 Africa   74957.0\n",
       "3  Eastern Mediterranean   60649.0\n",
       "4        South-East Asia   27157.0\n",
       "5        Western Pacific   24388.0"
      ]
     },
     "execution_count": 15,
     "metadata": {},
     "output_type": "execute_result"
    }
   ],
   "source": [
    "mydf = pd.DataFrame({'region':s1,'cases24h':s2})\n",
    "mydf"
   ]
  },
  {
   "cell_type": "markdown",
   "id": "282763f5",
   "metadata": {
    "id": "282763f5"
   },
   "source": [
    "<h2>Visualization of case count over the last 24 hours for each region in a bar plot</h2>"
   ]
  },
  {
   "cell_type": "code",
   "execution_count": null,
   "id": "81cb58f1",
   "metadata": {
    "id": "81cb58f1",
    "outputId": "db483a76-1c75-4fbf-cd37-82ef6f335393",
    "scrolled": true
   },
   "outputs": [
    {
     "data": {
      "text/plain": [
       "[Text(0.5, 1.0, 'Case count over the last 24hours for each region')]"
      ]
     },
     "execution_count": 17,
     "metadata": {},
     "output_type": "execute_result"
    },
    {
     "data": {
      "image/png": "[encoded data removed]",
      "text/plain": [
       "<Figure size 432x288 with 1 Axes>"
      ]
     },
     "metadata": {
      "needs_background": "light"
     },
     "output_type": "display_data"
    }
   ],
   "source": [
    "import seaborn as sns\n",
    "sns.barplot(data=mydf, x='cases24h', y='region').set(title='Case count over the last 24hours for each region')"
   ]
  },
  {
   "cell_type": "markdown",
   "id": "3abfb1fa",
   "metadata": {
    "id": "3abfb1fa"
   },
   "source": [
    "<h2>Conclusion : The region which reported the highest number of cases in the last 24 hours is EUROPE and the region which reported the least number of cases in the last 24 hours is WEST PACIFIC</h2>"
   ]
  },
  {
   "cell_type": "markdown",
   "id": "61107735",
   "metadata": {
    "id": "61107735"
   },
   "source": [
    "Adding Population column"
   ]
  },
  {
   "cell_type": "code",
   "execution_count": null,
   "id": "3f8febfc",
   "metadata": {
    "id": "3f8febfc",
    "outputId": "4fd4fdf4-43ee-444e-aced-ab3ffa3d5626",
    "scrolled": true
   },
   "outputs": [
    {
     "data": {
      "text/html": [
       "<div>\n",
       "<style scoped>\n",
       "    .dataframe tbody tr th:only-of-type {\n",
       "        vertical-align: middle;\n",
       "    }\n",
       "\n",
       "    .dataframe tbody tr th {\n",
       "        vertical-align: top;\n",
       "    }\n",
       "\n",
       "    .dataframe thead th {\n",
       "        text-align: right;\n",
       "    }\n",
       "</style>\n",
       "<table border=\"1\" class=\"dataframe\">\n",
       "  <thead>\n",
       "    <tr style=\"text-align: right;\">\n",
       "      <th></th>\n",
       "      <th>name</th>\n",
       "      <th>region</th>\n",
       "      <th>cases</th>\n",
       "      <th>cases100k</th>\n",
       "      <th>cases7days</th>\n",
       "      <th>cases7days100k</th>\n",
       "      <th>cases24h</th>\n",
       "      <th>deaths</th>\n",
       "      <th>deaths100k</th>\n",
       "      <th>deaths7days</th>\n",
       "      <th>deaths7days100k</th>\n",
       "      <th>deaths24h</th>\n",
       "      <th>fatalityrate</th>\n",
       "      <th>population</th>\n",
       "    </tr>\n",
       "  </thead>\n",
       "  <tbody>\n",
       "    <tr>\n",
       "      <th>0</th>\n",
       "      <td>Czechia</td>\n",
       "      <td>Europe</td>\n",
       "      <td>56635613.0</td>\n",
       "      <td>17110.32</td>\n",
       "      <td>913428.0</td>\n",
       "      <td>275.96</td>\n",
       "      <td>146115.0</td>\n",
       "      <td>909950.0</td>\n",
       "      <td>274.91</td>\n",
       "      <td>15931.0</td>\n",
       "      <td>4.81</td>\n",
       "      <td>2446.0</td>\n",
       "      <td>1.606675</td>\n",
       "      <td>3.310027e+08</td>\n",
       "    </tr>\n",
       "    <tr>\n",
       "      <th>1</th>\n",
       "      <td>Hungary</td>\n",
       "      <td>Europe</td>\n",
       "      <td>43862301.0</td>\n",
       "      <td>3178.41</td>\n",
       "      <td>192520.0</td>\n",
       "      <td>13.95</td>\n",
       "      <td>27491.0</td>\n",
       "      <td>582140.0</td>\n",
       "      <td>42.19</td>\n",
       "      <td>2312.0</td>\n",
       "      <td>0.17</td>\n",
       "      <td>350.0</td>\n",
       "      <td>1.327199</td>\n",
       "      <td>1.380008e+09</td>\n",
       "    </tr>\n",
       "    <tr>\n",
       "      <th>2</th>\n",
       "      <td>Saint Vincent and the Grenadines</td>\n",
       "      <td>Americas</td>\n",
       "      <td>27827447.0</td>\n",
       "      <td>13091.61</td>\n",
       "      <td>151858.0</td>\n",
       "      <td>71.44</td>\n",
       "      <td>23141.0</td>\n",
       "      <td>775139.0</td>\n",
       "      <td>364.67</td>\n",
       "      <td>4186.0</td>\n",
       "      <td>1.97</td>\n",
       "      <td>685.0</td>\n",
       "      <td>2.785520</td>\n",
       "      <td>2.125594e+08</td>\n",
       "    </tr>\n",
       "    <tr>\n",
       "      <th>3</th>\n",
       "      <td>Togo</td>\n",
       "      <td>Africa</td>\n",
       "      <td>10406234.0</td>\n",
       "      <td>15328.98</td>\n",
       "      <td>309552.0</td>\n",
       "      <td>455.98</td>\n",
       "      <td>51382.0</td>\n",
       "      <td>177719.0</td>\n",
       "      <td>261.79</td>\n",
       "      <td>976.0</td>\n",
       "      <td>1.44</td>\n",
       "      <td>158.0</td>\n",
       "      <td>1.707813</td>\n",
       "      <td>6.788602e+07</td>\n",
       "    </tr>\n",
       "    <tr>\n",
       "      <th>4</th>\n",
       "      <td>El Salvador</td>\n",
       "      <td>Americas</td>\n",
       "      <td>9980696.0</td>\n",
       "      <td>6839.16</td>\n",
       "      <td>235129.0</td>\n",
       "      <td>161.12</td>\n",
       "      <td>35237.0</td>\n",
       "      <td>277389.0</td>\n",
       "      <td>190.07</td>\n",
       "      <td>8203.0</td>\n",
       "      <td>5.63</td>\n",
       "      <td>1211.0</td>\n",
       "      <td>2.779255</td>\n",
       "      <td>1.459345e+08</td>\n",
       "    </tr>\n",
       "    <tr>\n",
       "      <th>5</th>\n",
       "      <td>Egypt</td>\n",
       "      <td>Eastern Mediterranean</td>\n",
       "      <td>9515090.0</td>\n",
       "      <td>11281.95</td>\n",
       "      <td>262880.0</td>\n",
       "      <td>311.69</td>\n",
       "      <td>38823.0</td>\n",
       "      <td>84826.0</td>\n",
       "      <td>NaN</td>\n",
       "      <td>NaN</td>\n",
       "      <td>2.35</td>\n",
       "      <td>281.0</td>\n",
       "      <td>0.891489</td>\n",
       "      <td>8.433905e+07</td>\n",
       "    </tr>\n",
       "    <tr>\n",
       "      <th>6</th>\n",
       "      <td>Barbados</td>\n",
       "      <td>Americas</td>\n",
       "      <td>8827822.0</td>\n",
       "      <td>13573.04</td>\n",
       "      <td>34876.0</td>\n",
       "      <td>53.62</td>\n",
       "      <td>5828.0</td>\n",
       "      <td>148327.0</td>\n",
       "      <td>228.06</td>\n",
       "      <td>286.0</td>\n",
       "      <td>0.44</td>\n",
       "      <td>41.0</td>\n",
       "      <td>1.680222</td>\n",
       "      <td>6.503939e+07</td>\n",
       "    </tr>\n",
       "    <tr>\n",
       "      <th>7</th>\n",
       "      <td>Switzerland</td>\n",
       "      <td>Europe</td>\n",
       "      <td>NaN</td>\n",
       "      <td>8736.66</td>\n",
       "      <td>112571.0</td>\n",
       "      <td>134.02</td>\n",
       "      <td>15034.0</td>\n",
       "      <td>157796.0</td>\n",
       "      <td>187.86</td>\n",
       "      <td>2049.0</td>\n",
       "      <td>2.44</td>\n",
       "      <td>301.0</td>\n",
       "      <td>NaN</td>\n",
       "      <td>NaN</td>\n",
       "    </tr>\n",
       "    <tr>\n",
       "      <th>8</th>\n",
       "      <td>Bahamas</td>\n",
       "      <td>Americas</td>\n",
       "      <td>6806812.0</td>\n",
       "      <td>15060.73</td>\n",
       "      <td>10292.0</td>\n",
       "      <td>22.77</td>\n",
       "      <td>1661.0</td>\n",
       "      <td>149217.0</td>\n",
       "      <td>330.16</td>\n",
       "      <td>322.0</td>\n",
       "      <td>0.71</td>\n",
       "      <td>72.0</td>\n",
       "      <td>2.192172</td>\n",
       "      <td>4.519576e+07</td>\n",
       "    </tr>\n",
       "    <tr>\n",
       "      <th>9</th>\n",
       "      <td>Greenland</td>\n",
       "      <td>Europe</td>\n",
       "      <td>6429292.0</td>\n",
       "      <td>13583.22</td>\n",
       "      <td>12366.0</td>\n",
       "      <td>26.12</td>\n",
       "      <td>1002.0</td>\n",
       "      <td>112129.0</td>\n",
       "      <td>236.89</td>\n",
       "      <td>149.0</td>\n",
       "      <td>0.31</td>\n",
       "      <td>8.0</td>\n",
       "      <td>1.744033</td>\n",
       "      <td>4.733261e+07</td>\n",
       "    </tr>\n",
       "    <tr>\n",
       "      <th>10</th>\n",
       "      <td>Guernsey</td>\n",
       "      <td>Europe</td>\n",
       "      <td>6422227.0</td>\n",
       "      <td>12621.58</td>\n",
       "      <td>12931.0</td>\n",
       "      <td>25.41</td>\n",
       "      <td>1802.0</td>\n",
       "      <td>163583.0</td>\n",
       "      <td>321.48</td>\n",
       "      <td>292.0</td>\n",
       "      <td>0.57</td>\n",
       "      <td>41.0</td>\n",
       "      <td>2.547138</td>\n",
       "      <td>5.088291e+07</td>\n",
       "    </tr>\n",
       "    <tr>\n",
       "      <th>11</th>\n",
       "      <td>Paraguay</td>\n",
       "      <td>Americas</td>\n",
       "      <td>6068421.0</td>\n",
       "      <td>10174.84</td>\n",
       "      <td>NaN</td>\n",
       "      <td>43.20</td>\n",
       "      <td>3793.0</td>\n",
       "      <td>169676.0</td>\n",
       "      <td>NaN</td>\n",
       "      <td>358.0</td>\n",
       "      <td>0.59</td>\n",
       "      <td>53.0</td>\n",
       "      <td>2.796049</td>\n",
       "      <td>5.964144e+07</td>\n",
       "    </tr>\n",
       "    <tr>\n",
       "      <th>12</th>\n",
       "      <td>Chile</td>\n",
       "      <td>Americas</td>\n",
       "      <td>5553091.0</td>\n",
       "      <td>6677.06</td>\n",
       "      <td>72667.0</td>\n",
       "      <td>87.37</td>\n",
       "      <td>13488.0</td>\n",
       "      <td>121714.0</td>\n",
       "      <td>146.35</td>\n",
       "      <td>520.0</td>\n",
       "      <td>0.62</td>\n",
       "      <td>111.0</td>\n",
       "      <td>2.191824</td>\n",
       "      <td>8.316671e+07</td>\n",
       "    </tr>\n",
       "    <tr>\n",
       "      <th>13</th>\n",
       "      <td>Yemen</td>\n",
       "      <td>Eastern Mediterranean</td>\n",
       "      <td>5465231.0</td>\n",
       "      <td>1998.08</td>\n",
       "      <td>11824.0</td>\n",
       "      <td>4.32</td>\n",
       "      <td>1790.0</td>\n",
       "      <td>184370.0</td>\n",
       "      <td>67.41</td>\n",
       "      <td>691.0</td>\n",
       "      <td>0.26</td>\n",
       "      <td>85.0</td>\n",
       "      <td>3.373508</td>\n",
       "      <td>2.735241e+08</td>\n",
       "    </tr>\n",
       "    <tr>\n",
       "      <th>14</th>\n",
       "      <td>Panama</td>\n",
       "      <td>Americas</td>\n",
       "      <td>4784643.0</td>\n",
       "      <td>3710.96</td>\n",
       "      <td>57197.0</td>\n",
       "      <td>44.36</td>\n",
       "      <td>9954.0</td>\n",
       "      <td>362907.0</td>\n",
       "      <td>281.47</td>\n",
       "      <td>4704.0</td>\n",
       "      <td>3.65</td>\n",
       "      <td>923.0</td>\n",
       "      <td>7.584829</td>\n",
       "      <td>1.289328e+08</td>\n",
       "    </tr>\n",
       "    <tr>\n",
       "      <th>15</th>\n",
       "      <td>Slovakia</td>\n",
       "      <td>Europe</td>\n",
       "      <td>3774905.0</td>\n",
       "      <td>9944.92</td>\n",
       "      <td>13490.0</td>\n",
       "      <td>35.54</td>\n",
       "      <td>2449.0</td>\n",
       "      <td>98075.0</td>\n",
       "      <td>258.37</td>\n",
       "      <td>217.0</td>\n",
       "      <td>0.57</td>\n",
       "      <td>40.0</td>\n",
       "      <td>2.598079</td>\n",
       "      <td>3.795812e+07</td>\n",
       "    </tr>\n",
       "    <tr>\n",
       "      <th>16</th>\n",
       "      <td>Tunisia</td>\n",
       "      <td>Eastern Mediterranean</td>\n",
       "      <td>3763128.0</td>\n",
       "      <td>6344.98</td>\n",
       "      <td>9163.0</td>\n",
       "      <td>15.45</td>\n",
       "      <td>1279.0</td>\n",
       "      <td>113943.0</td>\n",
       "      <td>192.12</td>\n",
       "      <td>618.0</td>\n",
       "      <td>1.05</td>\n",
       "      <td>159.0</td>\n",
       "      <td>3.027880</td>\n",
       "      <td>5.930874e+07</td>\n",
       "    </tr>\n",
       "    <tr>\n",
       "      <th>17</th>\n",
       "      <td>Belgium</td>\n",
       "      <td>Europe</td>\n",
       "      <td>3405050.0</td>\n",
       "      <td>3107.34</td>\n",
       "      <td>107290.0</td>\n",
       "      <td>97.91</td>\n",
       "      <td>12886.0</td>\n",
       "      <td>50356.0</td>\n",
       "      <td>45.95</td>\n",
       "      <td>832.0</td>\n",
       "      <td>0.76</td>\n",
       "      <td>141.0</td>\n",
       "      <td>1.478862</td>\n",
       "      <td>1.095809e+08</td>\n",
       "    </tr>\n",
       "    <tr>\n",
       "      <th>18</th>\n",
       "      <td>Maldives</td>\n",
       "      <td>South-East Asia</td>\n",
       "      <td>3251310.0</td>\n",
       "      <td>7434.33</td>\n",
       "      <td>NaN</td>\n",
       "      <td>232.42</td>\n",
       "      <td>21161.0</td>\n",
       "      <td>75115.0</td>\n",
       "      <td>171.76</td>\n",
       "      <td>2115.0</td>\n",
       "      <td>NaN</td>\n",
       "      <td>312.0</td>\n",
       "      <td>2.310300</td>\n",
       "      <td>4.373373e+07</td>\n",
       "    </tr>\n",
       "    <tr>\n",
       "      <th>19</th>\n",
       "      <td>Canada</td>\n",
       "      <td>Americas</td>\n",
       "      <td>2992295.0</td>\n",
       "      <td>9245.17</td>\n",
       "      <td>87984.0</td>\n",
       "      <td>271.85</td>\n",
       "      <td>12791.0</td>\n",
       "      <td>35065.0</td>\n",
       "      <td>108.34</td>\n",
       "      <td>1006.0</td>\n",
       "      <td>3.10</td>\n",
       "      <td>171.0</td>\n",
       "      <td>1.171843</td>\n",
       "      <td>3.236604e+07</td>\n",
       "    </tr>\n",
       "  </tbody>\n",
       "</table>\n",
       "</div>"
      ],
      "text/plain": [
       "                                name                 region       cases  \\\n",
       "0                            Czechia                 Europe  56635613.0   \n",
       "1                            Hungary                 Europe  43862301.0   \n",
       "2   Saint Vincent and the Grenadines               Americas  27827447.0   \n",
       "3                               Togo                 Africa  10406234.0   \n",
       "4                        El Salvador               Americas   9980696.0   \n",
       "5                              Egypt  Eastern Mediterranean   9515090.0   \n",
       "6                           Barbados               Americas   8827822.0   \n",
       "7                        Switzerland                 Europe         NaN   \n",
       "8                            Bahamas               Americas   6806812.0   \n",
       "9                          Greenland                 Europe   6429292.0   \n",
       "10                          Guernsey                 Europe   6422227.0   \n",
       "11                          Paraguay               Americas   6068421.0   \n",
       "12                             Chile               Americas   5553091.0   \n",
       "13                             Yemen  Eastern Mediterranean   5465231.0   \n",
       "14                            Panama               Americas   4784643.0   \n",
       "15                          Slovakia                 Europe   3774905.0   \n",
       "16                           Tunisia  Eastern Mediterranean   3763128.0   \n",
       "17                           Belgium                 Europe   3405050.0   \n",
       "18                          Maldives        South-East Asia   3251310.0   \n",
       "19                            Canada               Americas   2992295.0   \n",
       "\n",
       "    cases100k  cases7days  cases7days100k  cases24h    deaths  deaths100k  \\\n",
       "0    17110.32    913428.0          275.96  146115.0  909950.0      274.91   \n",
       "1     3178.41    192520.0           13.95   27491.0  582140.0       42.19   \n",
       "2    13091.61    151858.0           71.44   23141.0  775139.0      364.67   \n",
       "3    15328.98    309552.0          455.98   51382.0  177719.0      261.79   \n",
       "4     6839.16    235129.0          161.12   35237.0  277389.0      190.07   \n",
       "5    11281.95    262880.0          311.69   38823.0   84826.0         NaN   \n",
       "6    13573.04     34876.0           53.62    5828.0  148327.0      228.06   \n",
       "7     8736.66    112571.0          134.02   15034.0  157796.0      187.86   \n",
       "8    15060.73     10292.0           22.77    1661.0  149217.0      330.16   \n",
       "9    13583.22     12366.0           26.12    1002.0  112129.0      236.89   \n",
       "10   12621.58     12931.0           25.41    1802.0  163583.0      321.48   \n",
       "11   10174.84         NaN           43.20    3793.0  169676.0         NaN   \n",
       "12    6677.06     72667.0           87.37   13488.0  121714.0      146.35   \n",
       "13    1998.08     11824.0            4.32    1790.0  184370.0       67.41   \n",
       "14    3710.96     57197.0           44.36    9954.0  362907.0      281.47   \n",
       "15    9944.92     13490.0           35.54    2449.0   98075.0      258.37   \n",
       "16    6344.98      9163.0           15.45    1279.0  113943.0      192.12   \n",
       "17    3107.34    107290.0           97.91   12886.0   50356.0       45.95   \n",
       "18    7434.33         NaN          232.42   21161.0   75115.0      171.76   \n",
       "19    9245.17     87984.0          271.85   12791.0   35065.0      108.34   \n",
       "\n",
       "    deaths7days  deaths7days100k  deaths24h  fatalityrate    population  \n",
       "0       15931.0             4.81     2446.0      1.606675  3.310027e+08  \n",
       "1        2312.0             0.17      350.0      1.327199  1.380008e+09  \n",
       "2        4186.0             1.97      685.0      2.785520  2.125594e+08  \n",
       "3         976.0             1.44      158.0      1.707813  6.788602e+07  \n",
       "4        8203.0             5.63     1211.0      2.779255  1.459345e+08  \n",
       "5           NaN             2.35      281.0      0.891489  8.433905e+07  \n",
       "6         286.0             0.44       41.0      1.680222  6.503939e+07  \n",
       "7        2049.0             2.44      301.0           NaN           NaN  \n",
       "8         322.0             0.71       72.0      2.192172  4.519576e+07  \n",
       "9         149.0             0.31        8.0      1.744033  4.733261e+07  \n",
       "10        292.0             0.57       41.0      2.547138  5.088291e+07  \n",
       "11        358.0             0.59       53.0      2.796049  5.964144e+07  \n",
       "12        520.0             0.62      111.0      2.191824  8.316671e+07  \n",
       "13        691.0             0.26       85.0      3.373508  2.735241e+08  \n",
       "14       4704.0             3.65      923.0      7.584829  1.289328e+08  \n",
       "15        217.0             0.57       40.0      2.598079  3.795812e+07  \n",
       "16        618.0             1.05      159.0      3.027880  5.930874e+07  \n",
       "17        832.0             0.76      141.0      1.478862  1.095809e+08  \n",
       "18       2115.0              NaN      312.0      2.310300  4.373373e+07  \n",
       "19       1006.0             3.10      171.0      1.171843  3.236604e+07  "
      ]
     },
     "execution_count": 24,
     "metadata": {},
     "output_type": "execute_result"
    }
   ],
   "source": [
    "data['population'] = data['cases'] / data['cases100k'] * 100000\n",
    "data.head(20)"
   ]
  },
  {
   "cell_type": "markdown",
   "id": "94390d02",
   "metadata": {
    "id": "94390d02"
   },
   "source": [
    "<h2>Data Cleaning</h2>"
   ]
  },
  {
   "cell_type": "markdown",
   "id": "c40d1043",
   "metadata": {
    "id": "c40d1043"
   },
   "source": [
    "Before Data Cleaning"
   ]
  },
  {
   "cell_type": "code",
   "execution_count": null,
   "id": "cfe87a5f",
   "metadata": {
    "id": "cfe87a5f",
    "outputId": "77023218-f213-4c64-e505-3614baf6a70d"
   },
   "outputs": [
    {
     "data": {
      "text/plain": [
       "name                0\n",
       "region              0\n",
       "cases               2\n",
       "cases100k           0\n",
       "cases7days          4\n",
       "cases7days100k      3\n",
       "cases24h            0\n",
       "deaths              1\n",
       "deaths100k          2\n",
       "deaths7days         2\n",
       "deaths7days100k     3\n",
       "deaths24h           0\n",
       "fatalityrate       15\n",
       "population         14\n",
       "dtype: int64"
      ]
     },
     "execution_count": 19,
     "metadata": {},
     "output_type": "execute_result"
    }
   ],
   "source": [
    "data.isnull().sum()"
   ]
  },
  {
   "cell_type": "code",
   "execution_count": null,
   "id": "d02fbe62",
   "metadata": {
    "id": "d02fbe62",
    "outputId": "714f60e1-4657-47fb-bfff-97cd7ddef113",
    "scrolled": true
   },
   "outputs": [
    {
     "data": {
      "text/plain": [
       "(236, 14)"
      ]
     },
     "execution_count": 28,
     "metadata": {},
     "output_type": "execute_result"
    }
   ],
   "source": [
    "data.shape"
   ]
  },
  {
   "cell_type": "code",
   "execution_count": null,
   "id": "0706bf04",
   "metadata": {
    "id": "0706bf04",
    "scrolled": true
   },
   "outputs": [],
   "source": [
    "popS = data['population']"
   ]
  },
  {
   "cell_type": "code",
   "execution_count": null,
   "id": "3ba6b899",
   "metadata": {
    "id": "3ba6b899",
    "outputId": "49e7cb2c-6653-4a7e-aa34-f71cc99816f0",
    "scrolled": false
   },
   "outputs": [
    {
     "data": {
      "text/plain": [
       "0      3.310027e+08\n",
       "1      1.380008e+09\n",
       "2      2.125594e+08\n",
       "3      6.788602e+07\n",
       "4      1.459345e+08\n",
       "           ...     \n",
       "231             NaN\n",
       "232             NaN\n",
       "233             NaN\n",
       "234             NaN\n",
       "235             NaN\n",
       "Name: population, Length: 236, dtype: float64"
      ]
     },
     "execution_count": 36,
     "metadata": {},
     "output_type": "execute_result"
    }
   ],
   "source": [
    "popS"
   ]
  },
  {
   "cell_type": "code",
   "execution_count": null,
   "id": "512b5df7",
   "metadata": {
    "id": "512b5df7",
    "outputId": "f7b46b0e-d77a-4b3b-9120-6793cff6175c"
   },
   "outputs": [
    {
     "name": "stdout",
     "output_type": "stream",
     "text": [
      "7\n",
      "77\n",
      "224\n",
      "225\n",
      "226\n",
      "227\n",
      "228\n",
      "229\n",
      "230\n",
      "231\n",
      "232\n",
      "233\n",
      "234\n",
      "235\n"
     ]
    }
   ],
   "source": [
    "for i in range(popS.shape[0]):\n",
    "    if pd.isna(popS[i]):\n",
    "        print(i)"
   ]
  },
  {
   "cell_type": "code",
   "execution_count": null,
   "id": "f5582226",
   "metadata": {
    "id": "f5582226",
    "outputId": "cb5f9719-1f4b-4e28-bb27-8b5f000c1d26",
    "scrolled": true
   },
   "outputs": [
    {
     "data": {
      "text/plain": [
       "236"
      ]
     },
     "execution_count": 30,
     "metadata": {},
     "output_type": "execute_result"
    }
   ],
   "source": [
    "data.shape[0]"
   ]
  },
  {
   "cell_type": "code",
   "execution_count": null,
   "id": "f542cbfa",
   "metadata": {
    "id": "f542cbfa",
    "outputId": "45ac3286-1332-45c1-8ea9-ada8c9df49ff",
    "scrolled": true
   },
   "outputs": [
    {
     "data": {
      "text/plain": [
       "name                        Czechia\n",
       "region                       Europe\n",
       "cases                    56635613.0\n",
       "cases100k                  17110.32\n",
       "cases7days                 913428.0\n",
       "cases7days100k               275.96\n",
       "cases24h                   146115.0\n",
       "deaths                     909950.0\n",
       "deaths100k                   274.91\n",
       "deaths7days                 15931.0\n",
       "deaths7days100k                4.81\n",
       "deaths24h                    2446.0\n",
       "fatalityrate               1.606675\n",
       "population         331002652.200543\n",
       "Name: 0, dtype: object"
      ]
     },
     "execution_count": 31,
     "metadata": {},
     "output_type": "execute_result"
    }
   ],
   "source": [
    "data.iloc[0]"
   ]
  },
  {
   "cell_type": "code",
   "execution_count": null,
   "id": "a424e307",
   "metadata": {
    "id": "a424e307"
   },
   "outputs": [],
   "source": [
    "a = data.iloc[0]"
   ]
  },
  {
   "cell_type": "code",
   "execution_count": null,
   "id": "60076d91",
   "metadata": {
    "id": "60076d91",
    "outputId": "91745617-e75e-4a90-e62a-8be22df1fe1b"
   },
   "outputs": [
    {
     "name": "stdout",
     "output_type": "stream",
     "text": [
      "Yes\n"
     ]
    }
   ],
   "source": [
    "if (not pd.isna(a['deaths'])) & (not pd.isna(a['population'])):\n",
    "    print('Yes')"
   ]
  },
  {
   "cell_type": "code",
   "execution_count": null,
   "id": "c6debe6c",
   "metadata": {
    "id": "c6debe6c",
    "outputId": "80269797-61c0-49e4-e4e5-5c325f53c445",
    "scrolled": true
   },
   "outputs": [
    {
     "data": {
      "text/plain": [
       "name               Brunei Darussalam\n",
       "region               Western Pacific\n",
       "cases                            0.0\n",
       "cases100k                        0.0\n",
       "cases7days                       0.0\n",
       "cases7days100k                   0.0\n",
       "cases24h                         0.0\n",
       "deaths                           0.0\n",
       "deaths100k                       0.0\n",
       "deaths7days                      0.0\n",
       "deaths7days100k                  0.0\n",
       "deaths24h                        0.0\n",
       "fatalityrate                     NaN\n",
       "population                       NaN\n",
       "Name: 235, dtype: object"
      ]
     },
     "execution_count": 55,
     "metadata": {},
     "output_type": "execute_result"
    }
   ],
   "source": [
    "data.iloc[235]"
   ]
  },
  {
   "cell_type": "markdown",
   "id": "d4f743de",
   "metadata": {
    "id": "d4f743de"
   },
   "source": [
    "<ul>\n",
    "<li>Step 1: Iterate over each row in the dataframe</li>\n",
    "<li>Step 2: Check for missing value in particular column using pd.isna()</li>\n",
    "<li>Step 3: Suppose a missing value is found in 18th row and under the column with the label cases7days. I will make sure that the population and cases7days100k values are not missing for that row.\n",
    "</li>\n",
    "<li>Step 4: Then I use the basic formula - population = cases7days/cases7days100k * 100000 to compute the required value</li>\n",
    "</ul>\n"
   ]
  },
  {
   "cell_type": "code",
   "execution_count": null,
   "id": "c0c25dcc",
   "metadata": {
    "id": "c0c25dcc"
   },
   "outputs": [],
   "source": [
    "for i in range(data.shape[0]):\n",
    "    row = data.iloc[i]\n",
    "    if pd.isna(row['cases7days']):\n",
    "        if (not pd.isna(row['cases7days100k'])) & (not pd.isna(row['population'])):\n",
    "            data.iloc[i,4] = row['cases7days100k'] * row['population']/100000\n",
    "    if pd.isna(row['cases7days100k']):\n",
    "        if (not pd.isna(row['cases7days'])) & (not pd.isna(row['population'])):\n",
    "            data.iloc[i,5] = row['cases7days'] / row['population'] * 100000\n",
    "    if pd.isna(row['deaths']):\n",
    "        if (not pd.isna(row['deaths100k'])) & (not pd.isna(row['population'])):\n",
    "            data.iloc[i,7] = row['deaths100k'] * row['population']/100000\n",
    "    if pd.isna(row['deaths100k']):\n",
    "        if (not pd.isna(row['deaths'])) & (not pd.isna(row['population'])):\n",
    "            data.iloc[i,8] = row['deaths'] / row['population'] * 100000\n",
    "    if pd.isna(row['deaths7days']):\n",
    "        if (not pd.isna(row['deaths7days100k'])) & (not pd.isna(row['population'])):\n",
    "            data.iloc[i,9] = row['deaths7days100k'] *row['population']/100000\n",
    "    if pd.isna(row['deaths7days100k']):\n",
    "        if (not pd.isna(row['deaths7days'])) & (not pd.isna(row['population'])):\n",
    "            data.iloc[i,10] = row['deaths7days'] / row['population'] * 100000"
   ]
  },
  {
   "cell_type": "markdown",
   "id": "766f8520",
   "metadata": {
    "id": "766f8520"
   },
   "source": [
    "<i>Let's check whether the values have been filled</i>"
   ]
  },
  {
   "cell_type": "code",
   "execution_count": null,
   "id": "50a66860",
   "metadata": {
    "id": "50a66860",
    "outputId": "8b927e03-7ed2-4d33-c790-d96feccd5790",
    "scrolled": true
   },
   "outputs": [
    {
     "data": {
      "text/html": [
       "<div>\n",
       "<style scoped>\n",
       "    .dataframe tbody tr th:only-of-type {\n",
       "        vertical-align: middle;\n",
       "    }\n",
       "\n",
       "    .dataframe tbody tr th {\n",
       "        vertical-align: top;\n",
       "    }\n",
       "\n",
       "    .dataframe thead th {\n",
       "        text-align: right;\n",
       "    }\n",
       "</style>\n",
       "<table border=\"1\" class=\"dataframe\">\n",
       "  <thead>\n",
       "    <tr style=\"text-align: right;\">\n",
       "      <th></th>\n",
       "      <th>name</th>\n",
       "      <th>region</th>\n",
       "      <th>cases</th>\n",
       "      <th>cases100k</th>\n",
       "      <th>cases7days</th>\n",
       "      <th>cases7days100k</th>\n",
       "      <th>cases24h</th>\n",
       "      <th>deaths</th>\n",
       "      <th>deaths100k</th>\n",
       "      <th>deaths7days</th>\n",
       "      <th>deaths7days100k</th>\n",
       "      <th>deaths24h</th>\n",
       "      <th>fatalityrate</th>\n",
       "      <th>population</th>\n",
       "    </tr>\n",
       "  </thead>\n",
       "  <tbody>\n",
       "    <tr>\n",
       "      <th>0</th>\n",
       "      <td>Czechia</td>\n",
       "      <td>Europe</td>\n",
       "      <td>56635613.0</td>\n",
       "      <td>17110.32</td>\n",
       "      <td>913428.000000</td>\n",
       "      <td>275.96</td>\n",
       "      <td>146115.0</td>\n",
       "      <td>909950.0</td>\n",
       "      <td>274.910000</td>\n",
       "      <td>15931.000000</td>\n",
       "      <td>4.810000</td>\n",
       "      <td>2446.0</td>\n",
       "      <td>1.606675</td>\n",
       "      <td>3.310027e+08</td>\n",
       "    </tr>\n",
       "    <tr>\n",
       "      <th>1</th>\n",
       "      <td>Hungary</td>\n",
       "      <td>Europe</td>\n",
       "      <td>43862301.0</td>\n",
       "      <td>3178.41</td>\n",
       "      <td>192520.000000</td>\n",
       "      <td>13.95</td>\n",
       "      <td>27491.0</td>\n",
       "      <td>582140.0</td>\n",
       "      <td>42.190000</td>\n",
       "      <td>2312.000000</td>\n",
       "      <td>0.170000</td>\n",
       "      <td>350.0</td>\n",
       "      <td>1.327199</td>\n",
       "      <td>1.380008e+09</td>\n",
       "    </tr>\n",
       "    <tr>\n",
       "      <th>2</th>\n",
       "      <td>Saint Vincent and the Grenadines</td>\n",
       "      <td>Americas</td>\n",
       "      <td>27827447.0</td>\n",
       "      <td>13091.61</td>\n",
       "      <td>151858.000000</td>\n",
       "      <td>71.44</td>\n",
       "      <td>23141.0</td>\n",
       "      <td>775139.0</td>\n",
       "      <td>364.670000</td>\n",
       "      <td>4186.000000</td>\n",
       "      <td>1.970000</td>\n",
       "      <td>685.0</td>\n",
       "      <td>2.785520</td>\n",
       "      <td>2.125594e+08</td>\n",
       "    </tr>\n",
       "    <tr>\n",
       "      <th>3</th>\n",
       "      <td>Togo</td>\n",
       "      <td>Africa</td>\n",
       "      <td>10406234.0</td>\n",
       "      <td>15328.98</td>\n",
       "      <td>309552.000000</td>\n",
       "      <td>455.98</td>\n",
       "      <td>51382.0</td>\n",
       "      <td>177719.0</td>\n",
       "      <td>261.790000</td>\n",
       "      <td>976.000000</td>\n",
       "      <td>1.440000</td>\n",
       "      <td>158.0</td>\n",
       "      <td>1.707813</td>\n",
       "      <td>6.788602e+07</td>\n",
       "    </tr>\n",
       "    <tr>\n",
       "      <th>4</th>\n",
       "      <td>El Salvador</td>\n",
       "      <td>Americas</td>\n",
       "      <td>9980696.0</td>\n",
       "      <td>6839.16</td>\n",
       "      <td>235129.000000</td>\n",
       "      <td>161.12</td>\n",
       "      <td>35237.0</td>\n",
       "      <td>277389.0</td>\n",
       "      <td>190.070000</td>\n",
       "      <td>8203.000000</td>\n",
       "      <td>5.630000</td>\n",
       "      <td>1211.0</td>\n",
       "      <td>2.779255</td>\n",
       "      <td>1.459345e+08</td>\n",
       "    </tr>\n",
       "    <tr>\n",
       "      <th>5</th>\n",
       "      <td>Egypt</td>\n",
       "      <td>Eastern Mediterranean</td>\n",
       "      <td>9515090.0</td>\n",
       "      <td>11281.95</td>\n",
       "      <td>262880.000000</td>\n",
       "      <td>311.69</td>\n",
       "      <td>38823.0</td>\n",
       "      <td>84826.0</td>\n",
       "      <td>100.577366</td>\n",
       "      <td>1981.967789</td>\n",
       "      <td>2.350000</td>\n",
       "      <td>281.0</td>\n",
       "      <td>0.891489</td>\n",
       "      <td>8.433905e+07</td>\n",
       "    </tr>\n",
       "    <tr>\n",
       "      <th>6</th>\n",
       "      <td>Barbados</td>\n",
       "      <td>Americas</td>\n",
       "      <td>8827822.0</td>\n",
       "      <td>13573.04</td>\n",
       "      <td>34876.000000</td>\n",
       "      <td>53.62</td>\n",
       "      <td>5828.0</td>\n",
       "      <td>148327.0</td>\n",
       "      <td>228.060000</td>\n",
       "      <td>286.000000</td>\n",
       "      <td>0.440000</td>\n",
       "      <td>41.0</td>\n",
       "      <td>1.680222</td>\n",
       "      <td>6.503939e+07</td>\n",
       "    </tr>\n",
       "    <tr>\n",
       "      <th>7</th>\n",
       "      <td>Switzerland</td>\n",
       "      <td>Europe</td>\n",
       "      <td>NaN</td>\n",
       "      <td>8736.66</td>\n",
       "      <td>112571.000000</td>\n",
       "      <td>134.02</td>\n",
       "      <td>15034.0</td>\n",
       "      <td>157796.0</td>\n",
       "      <td>187.860000</td>\n",
       "      <td>2049.000000</td>\n",
       "      <td>2.440000</td>\n",
       "      <td>301.0</td>\n",
       "      <td>NaN</td>\n",
       "      <td>NaN</td>\n",
       "    </tr>\n",
       "    <tr>\n",
       "      <th>8</th>\n",
       "      <td>Bahamas</td>\n",
       "      <td>Americas</td>\n",
       "      <td>6806812.0</td>\n",
       "      <td>15060.73</td>\n",
       "      <td>10292.000000</td>\n",
       "      <td>22.77</td>\n",
       "      <td>1661.0</td>\n",
       "      <td>149217.0</td>\n",
       "      <td>330.160000</td>\n",
       "      <td>322.000000</td>\n",
       "      <td>0.710000</td>\n",
       "      <td>72.0</td>\n",
       "      <td>2.192172</td>\n",
       "      <td>4.519576e+07</td>\n",
       "    </tr>\n",
       "    <tr>\n",
       "      <th>9</th>\n",
       "      <td>Greenland</td>\n",
       "      <td>Europe</td>\n",
       "      <td>6429292.0</td>\n",
       "      <td>13583.22</td>\n",
       "      <td>12366.000000</td>\n",
       "      <td>26.12</td>\n",
       "      <td>1002.0</td>\n",
       "      <td>112129.0</td>\n",
       "      <td>236.890000</td>\n",
       "      <td>149.000000</td>\n",
       "      <td>0.310000</td>\n",
       "      <td>8.0</td>\n",
       "      <td>1.744033</td>\n",
       "      <td>4.733261e+07</td>\n",
       "    </tr>\n",
       "    <tr>\n",
       "      <th>10</th>\n",
       "      <td>Guernsey</td>\n",
       "      <td>Europe</td>\n",
       "      <td>6422227.0</td>\n",
       "      <td>12621.58</td>\n",
       "      <td>12931.000000</td>\n",
       "      <td>25.41</td>\n",
       "      <td>1802.0</td>\n",
       "      <td>163583.0</td>\n",
       "      <td>321.480000</td>\n",
       "      <td>292.000000</td>\n",
       "      <td>0.570000</td>\n",
       "      <td>41.0</td>\n",
       "      <td>2.547138</td>\n",
       "      <td>5.088291e+07</td>\n",
       "    </tr>\n",
       "    <tr>\n",
       "      <th>11</th>\n",
       "      <td>Paraguay</td>\n",
       "      <td>Americas</td>\n",
       "      <td>6068421.0</td>\n",
       "      <td>10174.84</td>\n",
       "      <td>25765.101682</td>\n",
       "      <td>43.20</td>\n",
       "      <td>3793.0</td>\n",
       "      <td>169676.0</td>\n",
       "      <td>284.493471</td>\n",
       "      <td>358.000000</td>\n",
       "      <td>0.590000</td>\n",
       "      <td>53.0</td>\n",
       "      <td>2.796049</td>\n",
       "      <td>5.964144e+07</td>\n",
       "    </tr>\n",
       "    <tr>\n",
       "      <th>12</th>\n",
       "      <td>Chile</td>\n",
       "      <td>Americas</td>\n",
       "      <td>5553091.0</td>\n",
       "      <td>6677.06</td>\n",
       "      <td>72667.000000</td>\n",
       "      <td>87.37</td>\n",
       "      <td>13488.0</td>\n",
       "      <td>121714.0</td>\n",
       "      <td>146.350000</td>\n",
       "      <td>520.000000</td>\n",
       "      <td>0.620000</td>\n",
       "      <td>111.0</td>\n",
       "      <td>2.191824</td>\n",
       "      <td>8.316671e+07</td>\n",
       "    </tr>\n",
       "    <tr>\n",
       "      <th>13</th>\n",
       "      <td>Yemen</td>\n",
       "      <td>Eastern Mediterranean</td>\n",
       "      <td>5465231.0</td>\n",
       "      <td>1998.08</td>\n",
       "      <td>11824.000000</td>\n",
       "      <td>4.32</td>\n",
       "      <td>1790.0</td>\n",
       "      <td>184370.0</td>\n",
       "      <td>67.410000</td>\n",
       "      <td>691.000000</td>\n",
       "      <td>0.260000</td>\n",
       "      <td>85.0</td>\n",
       "      <td>3.373508</td>\n",
       "      <td>2.735241e+08</td>\n",
       "    </tr>\n",
       "    <tr>\n",
       "      <th>14</th>\n",
       "      <td>Panama</td>\n",
       "      <td>Americas</td>\n",
       "      <td>4784643.0</td>\n",
       "      <td>3710.96</td>\n",
       "      <td>57197.000000</td>\n",
       "      <td>44.36</td>\n",
       "      <td>9954.0</td>\n",
       "      <td>362907.0</td>\n",
       "      <td>281.470000</td>\n",
       "      <td>4704.000000</td>\n",
       "      <td>3.650000</td>\n",
       "      <td>923.0</td>\n",
       "      <td>7.584829</td>\n",
       "      <td>1.289328e+08</td>\n",
       "    </tr>\n",
       "    <tr>\n",
       "      <th>15</th>\n",
       "      <td>Slovakia</td>\n",
       "      <td>Europe</td>\n",
       "      <td>3774905.0</td>\n",
       "      <td>9944.92</td>\n",
       "      <td>13490.000000</td>\n",
       "      <td>35.54</td>\n",
       "      <td>2449.0</td>\n",
       "      <td>98075.0</td>\n",
       "      <td>258.370000</td>\n",
       "      <td>217.000000</td>\n",
       "      <td>0.570000</td>\n",
       "      <td>40.0</td>\n",
       "      <td>2.598079</td>\n",
       "      <td>3.795812e+07</td>\n",
       "    </tr>\n",
       "    <tr>\n",
       "      <th>16</th>\n",
       "      <td>Tunisia</td>\n",
       "      <td>Eastern Mediterranean</td>\n",
       "      <td>3763128.0</td>\n",
       "      <td>6344.98</td>\n",
       "      <td>9163.000000</td>\n",
       "      <td>15.45</td>\n",
       "      <td>1279.0</td>\n",
       "      <td>113943.0</td>\n",
       "      <td>192.120000</td>\n",
       "      <td>618.000000</td>\n",
       "      <td>1.050000</td>\n",
       "      <td>159.0</td>\n",
       "      <td>3.027880</td>\n",
       "      <td>5.930874e+07</td>\n",
       "    </tr>\n",
       "    <tr>\n",
       "      <th>17</th>\n",
       "      <td>Belgium</td>\n",
       "      <td>Europe</td>\n",
       "      <td>3405050.0</td>\n",
       "      <td>3107.34</td>\n",
       "      <td>107290.000000</td>\n",
       "      <td>97.91</td>\n",
       "      <td>12886.0</td>\n",
       "      <td>50356.0</td>\n",
       "      <td>45.950000</td>\n",
       "      <td>832.000000</td>\n",
       "      <td>0.760000</td>\n",
       "      <td>141.0</td>\n",
       "      <td>1.478862</td>\n",
       "      <td>1.095809e+08</td>\n",
       "    </tr>\n",
       "    <tr>\n",
       "      <th>18</th>\n",
       "      <td>Maldives</td>\n",
       "      <td>South-East Asia</td>\n",
       "      <td>3251310.0</td>\n",
       "      <td>7434.33</td>\n",
       "      <td>101645.941221</td>\n",
       "      <td>232.42</td>\n",
       "      <td>21161.0</td>\n",
       "      <td>75115.0</td>\n",
       "      <td>171.760000</td>\n",
       "      <td>2115.000000</td>\n",
       "      <td>4.836084</td>\n",
       "      <td>312.0</td>\n",
       "      <td>2.310300</td>\n",
       "      <td>4.373373e+07</td>\n",
       "    </tr>\n",
       "    <tr>\n",
       "      <th>19</th>\n",
       "      <td>Canada</td>\n",
       "      <td>Americas</td>\n",
       "      <td>2992295.0</td>\n",
       "      <td>9245.17</td>\n",
       "      <td>87984.000000</td>\n",
       "      <td>271.85</td>\n",
       "      <td>12791.0</td>\n",
       "      <td>35065.0</td>\n",
       "      <td>108.340000</td>\n",
       "      <td>1006.000000</td>\n",
       "      <td>3.100000</td>\n",
       "      <td>171.0</td>\n",
       "      <td>1.171843</td>\n",
       "      <td>3.236604e+07</td>\n",
       "    </tr>\n",
       "  </tbody>\n",
       "</table>\n",
       "</div>"
      ],
      "text/plain": [
       "                                name                 region       cases  \\\n",
       "0                            Czechia                 Europe  56635613.0   \n",
       "1                            Hungary                 Europe  43862301.0   \n",
       "2   Saint Vincent and the Grenadines               Americas  27827447.0   \n",
       "3                               Togo                 Africa  10406234.0   \n",
       "4                        El Salvador               Americas   9980696.0   \n",
       "5                              Egypt  Eastern Mediterranean   9515090.0   \n",
       "6                           Barbados               Americas   8827822.0   \n",
       "7                        Switzerland                 Europe         NaN   \n",
       "8                            Bahamas               Americas   6806812.0   \n",
       "9                          Greenland                 Europe   6429292.0   \n",
       "10                          Guernsey                 Europe   6422227.0   \n",
       "11                          Paraguay               Americas   6068421.0   \n",
       "12                             Chile               Americas   5553091.0   \n",
       "13                             Yemen  Eastern Mediterranean   5465231.0   \n",
       "14                            Panama               Americas   4784643.0   \n",
       "15                          Slovakia                 Europe   3774905.0   \n",
       "16                           Tunisia  Eastern Mediterranean   3763128.0   \n",
       "17                           Belgium                 Europe   3405050.0   \n",
       "18                          Maldives        South-East Asia   3251310.0   \n",
       "19                            Canada               Americas   2992295.0   \n",
       "\n",
       "    cases100k     cases7days  cases7days100k  cases24h    deaths  deaths100k  \\\n",
       "0    17110.32  913428.000000          275.96  146115.0  909950.0  274.910000   \n",
       "1     3178.41  192520.000000           13.95   27491.0  582140.0   42.190000   \n",
       "2    13091.61  151858.000000           71.44   23141.0  775139.0  364.670000   \n",
       "3    15328.98  309552.000000          455.98   51382.0  177719.0  261.790000   \n",
       "4     6839.16  235129.000000          161.12   35237.0  277389.0  190.070000   \n",
       "5    11281.95  262880.000000          311.69   38823.0   84826.0  100.577366   \n",
       "6    13573.04   34876.000000           53.62    5828.0  148327.0  228.060000   \n",
       "7     8736.66  112571.000000          134.02   15034.0  157796.0  187.860000   \n",
       "8    15060.73   10292.000000           22.77    1661.0  149217.0  330.160000   \n",
       "9    13583.22   12366.000000           26.12    1002.0  112129.0  236.890000   \n",
       "10   12621.58   12931.000000           25.41    1802.0  163583.0  321.480000   \n",
       "11   10174.84   25765.101682           43.20    3793.0  169676.0  284.493471   \n",
       "12    6677.06   72667.000000           87.37   13488.0  121714.0  146.350000   \n",
       "13    1998.08   11824.000000            4.32    1790.0  184370.0   67.410000   \n",
       "14    3710.96   57197.000000           44.36    9954.0  362907.0  281.470000   \n",
       "15    9944.92   13490.000000           35.54    2449.0   98075.0  258.370000   \n",
       "16    6344.98    9163.000000           15.45    1279.0  113943.0  192.120000   \n",
       "17    3107.34  107290.000000           97.91   12886.0   50356.0   45.950000   \n",
       "18    7434.33  101645.941221          232.42   21161.0   75115.0  171.760000   \n",
       "19    9245.17   87984.000000          271.85   12791.0   35065.0  108.340000   \n",
       "\n",
       "     deaths7days  deaths7days100k  deaths24h  fatalityrate    population  \n",
       "0   15931.000000         4.810000     2446.0      1.606675  3.310027e+08  \n",
       "1    2312.000000         0.170000      350.0      1.327199  1.380008e+09  \n",
       "2    4186.000000         1.970000      685.0      2.785520  2.125594e+08  \n",
       "3     976.000000         1.440000      158.0      1.707813  6.788602e+07  \n",
       "4    8203.000000         5.630000     1211.0      2.779255  1.459345e+08  \n",
       "5    1981.967789         2.350000      281.0      0.891489  8.433905e+07  \n",
       "6     286.000000         0.440000       41.0      1.680222  6.503939e+07  \n",
       "7    2049.000000         2.440000      301.0           NaN           NaN  \n",
       "8     322.000000         0.710000       72.0      2.192172  4.519576e+07  \n",
       "9     149.000000         0.310000        8.0      1.744033  4.733261e+07  \n",
       "10    292.000000         0.570000       41.0      2.547138  5.088291e+07  \n",
       "11    358.000000         0.590000       53.0      2.796049  5.964144e+07  \n",
       "12    520.000000         0.620000      111.0      2.191824  8.316671e+07  \n",
       "13    691.000000         0.260000       85.0      3.373508  2.735241e+08  \n",
       "14   4704.000000         3.650000      923.0      7.584829  1.289328e+08  \n",
       "15    217.000000         0.570000       40.0      2.598079  3.795812e+07  \n",
       "16    618.000000         1.050000      159.0      3.027880  5.930874e+07  \n",
       "17    832.000000         0.760000      141.0      1.478862  1.095809e+08  \n",
       "18   2115.000000         4.836084      312.0      2.310300  4.373373e+07  \n",
       "19   1006.000000         3.100000      171.0      1.171843  3.236604e+07  "
      ]
     },
     "execution_count": 65,
     "metadata": {},
     "output_type": "execute_result"
    }
   ],
   "source": [
    "data.head(20)"
   ]
  },
  {
   "cell_type": "code",
   "execution_count": null,
   "id": "7ca62eef",
   "metadata": {
    "id": "7ca62eef",
    "outputId": "0428ee6e-c7cc-4d73-b8f8-cd76e4f3b86d",
    "scrolled": false
   },
   "outputs": [
    {
     "data": {
      "text/plain": [
       "name                0\n",
       "region              0\n",
       "cases               2\n",
       "cases100k           0\n",
       "cases7days          1\n",
       "cases7days100k      0\n",
       "cases24h            0\n",
       "deaths              0\n",
       "deaths100k          0\n",
       "deaths7days         0\n",
       "deaths7days100k     0\n",
       "deaths24h           0\n",
       "fatalityrate       15\n",
       "population         14\n",
       "dtype: int64"
      ]
     },
     "execution_count": 66,
     "metadata": {},
     "output_type": "execute_result"
    }
   ],
   "source": [
    "data.isnull().sum()"
   ]
  },
  {
   "cell_type": "code",
   "execution_count": null,
   "id": "47a2731f",
   "metadata": {
    "id": "47a2731f",
    "outputId": "5e9c278d-cf2f-43ab-e5ee-2e53b5d64632"
   },
   "outputs": [
    {
     "name": "stdout",
     "output_type": "stream",
     "text": [
      "name               Burundi\n",
      "region              Africa\n",
      "cases                  NaN\n",
      "cases100k           390.67\n",
      "cases7days             NaN\n",
      "cases7days100k        5.83\n",
      "cases24h               0.0\n",
      "deaths             22691.0\n",
      "deaths100k           22.17\n",
      "deaths7days          277.0\n",
      "deaths7days100k       0.27\n",
      "deaths24h              0.0\n",
      "fatalityrate           NaN\n",
      "population             NaN\n",
      "Name: 77, dtype: object\n"
     ]
    }
   ],
   "source": [
    "for j in range(data.shape[0]):\n",
    "    row = data.iloc[j]\n",
    "    if pd.isna(row['cases7days']):\n",
    "        print(row)"
   ]
  },
  {
   "cell_type": "code",
   "execution_count": null,
   "id": "084bbce7",
   "metadata": {
    "id": "084bbce7",
    "outputId": "fe6e7a26-b19a-47f5-c5db-b857977235e3",
    "scrolled": false
   },
   "outputs": [
    {
     "name": "stdout",
     "output_type": "stream",
     "text": [
      "name               Switzerland\n",
      "region                  Europe\n",
      "cases                      NaN\n",
      "cases100k              8736.66\n",
      "cases7days            112571.0\n",
      "cases7days100k          134.02\n",
      "cases24h               15034.0\n",
      "deaths                157796.0\n",
      "deaths100k              187.86\n",
      "deaths7days             2049.0\n",
      "deaths7days100k           2.44\n",
      "deaths24h                301.0\n",
      "fatalityrate               NaN\n",
      "population                 NaN\n",
      "Name: 7, dtype: object\n",
      "name               Burundi\n",
      "region              Africa\n",
      "cases                  NaN\n",
      "cases100k           390.67\n",
      "cases7days             NaN\n",
      "cases7days100k        5.83\n",
      "cases24h               0.0\n",
      "deaths             22691.0\n",
      "deaths100k           22.17\n",
      "deaths7days          277.0\n",
      "deaths7days100k       0.27\n",
      "deaths24h              0.0\n",
      "fatalityrate           NaN\n",
      "population             NaN\n",
      "Name: 77, dtype: object\n",
      "name               Martinique\n",
      "region               Americas\n",
      "cases                     0.0\n",
      "cases100k                 0.0\n",
      "cases7days                0.0\n",
      "cases7days100k            0.0\n",
      "cases24h                  0.0\n",
      "deaths                    0.0\n",
      "deaths100k                0.0\n",
      "deaths7days               0.0\n",
      "deaths7days100k           0.0\n",
      "deaths24h                 0.0\n",
      "fatalityrate              NaN\n",
      "population                NaN\n",
      "Name: 224, dtype: object\n",
      "name               Papua New Guinea\n",
      "region              Western Pacific\n",
      "cases                           0.0\n",
      "cases100k                       0.0\n",
      "cases7days                      0.0\n",
      "cases7days100k                  0.0\n",
      "cases24h                        0.0\n",
      "deaths                          0.0\n",
      "deaths100k                      0.0\n",
      "deaths7days                     0.0\n",
      "deaths7days100k                 0.0\n",
      "deaths24h                       0.0\n",
      "fatalityrate                    NaN\n",
      "population                      NaN\n",
      "Name: 225, dtype: object\n",
      "name                         Nepal\n",
      "region             South-East Asia\n",
      "cases                          0.0\n",
      "cases100k                      0.0\n",
      "cases7days                     0.0\n",
      "cases7days100k                 0.0\n",
      "cases24h                       0.0\n",
      "deaths                         0.0\n",
      "deaths100k                     0.0\n",
      "deaths7days                    0.0\n",
      "deaths7days100k                0.0\n",
      "deaths24h                      0.0\n",
      "fatalityrate                   NaN\n",
      "population                     NaN\n",
      "Name: 226, dtype: object\n",
      "name                Spain\n",
      "region             Europe\n",
      "cases                 0.0\n",
      "cases100k             0.0\n",
      "cases7days            0.0\n",
      "cases7days100k        0.0\n",
      "cases24h              0.0\n",
      "deaths                0.0\n",
      "deaths100k            0.0\n",
      "deaths7days           0.0\n",
      "deaths7days100k       0.0\n",
      "deaths24h             0.0\n",
      "fatalityrate          NaN\n",
      "population            NaN\n",
      "Name: 227, dtype: object\n",
      "name               Equatorial Guinea\n",
      "region                        Africa\n",
      "cases                            0.0\n",
      "cases100k                        0.0\n",
      "cases7days                       0.0\n",
      "cases7days100k                   0.0\n",
      "cases24h                         0.0\n",
      "deaths                           0.0\n",
      "deaths100k                       0.0\n",
      "deaths7days                      0.0\n",
      "deaths7days100k                  0.0\n",
      "deaths24h                        0.0\n",
      "fatalityrate                     NaN\n",
      "population                       NaN\n",
      "Name: 228, dtype: object\n",
      "name                Benin\n",
      "region             Africa\n",
      "cases                 0.0\n",
      "cases100k             0.0\n",
      "cases7days            0.0\n",
      "cases7days100k        0.0\n",
      "cases24h              0.0\n",
      "deaths                0.0\n",
      "deaths100k            0.0\n",
      "deaths7days           0.0\n",
      "deaths7days100k       0.0\n",
      "deaths24h             0.0\n",
      "fatalityrate          NaN\n",
      "population            NaN\n",
      "Name: 229, dtype: object\n",
      "name               Sao Tome and Principe\n",
      "region                            Africa\n",
      "cases                                0.0\n",
      "cases100k                            0.0\n",
      "cases7days                           0.0\n",
      "cases7days100k                       0.0\n",
      "cases24h                             0.0\n",
      "deaths                               0.0\n",
      "deaths100k                           0.0\n",
      "deaths7days                          0.0\n",
      "deaths7days100k                      0.0\n",
      "deaths24h                            0.0\n",
      "fatalityrate                         NaN\n",
      "population                           NaN\n",
      "Name: 230, dtype: object\n",
      "name               Monaco\n",
      "region             Europe\n",
      "cases                 0.0\n",
      "cases100k             0.0\n",
      "cases7days            0.0\n",
      "cases7days100k        0.0\n",
      "cases24h              0.0\n",
      "deaths                0.0\n",
      "deaths100k            0.0\n",
      "deaths7days           0.0\n",
      "deaths7days100k       0.0\n",
      "deaths24h             0.0\n",
      "fatalityrate          NaN\n",
      "population            NaN\n",
      "Name: 231, dtype: object\n",
      "name               Saint Helena\n",
      "region                   Africa\n",
      "cases                       0.0\n",
      "cases100k                   0.0\n",
      "cases7days                  0.0\n",
      "cases7days100k              0.0\n",
      "cases24h                    0.0\n",
      "deaths                      0.0\n",
      "deaths100k                  0.0\n",
      "deaths7days                 0.0\n",
      "deaths7days100k             0.0\n",
      "deaths24h                   0.0\n",
      "fatalityrate                NaN\n",
      "population                  NaN\n",
      "Name: 232, dtype: object\n",
      "name                 New Caledonia\n",
      "region             Western Pacific\n",
      "cases                          0.0\n",
      "cases100k                      0.0\n",
      "cases7days                     0.0\n",
      "cases7days100k                 0.0\n",
      "cases24h                       0.0\n",
      "deaths                         0.0\n",
      "deaths100k                     0.0\n",
      "deaths7days                    0.0\n",
      "deaths7days100k                0.0\n",
      "deaths24h                      0.0\n",
      "fatalityrate                   NaN\n",
      "population                     NaN\n",
      "Name: 233, dtype: object\n",
      "name               Côte d’Ivoire\n",
      "region                    Africa\n",
      "cases                        0.0\n",
      "cases100k                    0.0\n",
      "cases7days                   0.0\n",
      "cases7days100k               0.0\n",
      "cases24h                     0.0\n",
      "deaths                       0.0\n",
      "deaths100k                   0.0\n",
      "deaths7days                  0.0\n",
      "deaths7days100k              0.0\n",
      "deaths24h                    0.0\n",
      "fatalityrate                 NaN\n",
      "population                   NaN\n",
      "Name: 234, dtype: object\n",
      "name               Brunei Darussalam\n",
      "region               Western Pacific\n",
      "cases                            0.0\n",
      "cases100k                        0.0\n",
      "cases7days                       0.0\n",
      "cases7days100k                   0.0\n",
      "cases24h                         0.0\n",
      "deaths                           0.0\n",
      "deaths100k                       0.0\n",
      "deaths7days                      0.0\n",
      "deaths7days100k                  0.0\n",
      "deaths24h                        0.0\n",
      "fatalityrate                     NaN\n",
      "population                       NaN\n",
      "Name: 235, dtype: object\n"
     ]
    }
   ],
   "source": [
    "for j in range(data.shape[0]):\n",
    "    row = data.iloc[j]\n",
    "    if pd.isna(row['population']):\n",
    "        print(row)"
   ]
  },
  {
   "cell_type": "markdown",
   "id": "418a990b",
   "metadata": {
    "id": "418a990b"
   },
   "source": [
    "<ul>\n",
    "<li>I will replace the missing <b>population</b> values using the formula <b>population = deaths/deaths100k * 100000</b></li>\n",
    "<li>Then I will replace cases and cases7days values</li>\n",
    "</ul>"
   ]
  },
  {
   "cell_type": "code",
   "execution_count": null,
   "id": "b62850a6",
   "metadata": {
    "id": "b62850a6"
   },
   "outputs": [],
   "source": [
    "for i in range(data.shape[0]):\n",
    "    row = data.iloc[i]\n",
    "    if pd.isna(row['cases']):\n",
    "        if (not pd.isna(row['deaths'])) & (not pd.isna(row['deaths100k'])):\n",
    "            data.iloc[i,13] = row['deaths'] / row['deaths100k'] * 100000"
   ]
  },
  {
   "cell_type": "code",
   "execution_count": null,
   "id": "76bf1a58",
   "metadata": {
    "id": "76bf1a58",
    "outputId": "1e5635fa-3f6b-4d39-eed2-c766aca0fb82"
   },
   "outputs": [
    {
     "data": {
      "text/plain": [
       "name                0\n",
       "region              0\n",
       "cases               2\n",
       "cases100k           0\n",
       "cases7days          1\n",
       "cases7days100k      0\n",
       "cases24h            0\n",
       "deaths              0\n",
       "deaths100k          0\n",
       "deaths7days         0\n",
       "deaths7days100k     0\n",
       "deaths24h           0\n",
       "fatalityrate       15\n",
       "population         12\n",
       "dtype: int64"
      ]
     },
     "execution_count": 72,
     "metadata": {},
     "output_type": "execute_result"
    }
   ],
   "source": [
    "data.isnull().sum()"
   ]
  },
  {
   "cell_type": "code",
   "execution_count": null,
   "id": "1649e68d",
   "metadata": {
    "id": "1649e68d"
   },
   "outputs": [],
   "source": [
    "for i in range(data.shape[0]):\n",
    "    row = data.iloc[i]\n",
    "    if pd.isna(row['cases']):\n",
    "        if(not pd.isna(row['cases100k'])) & (not pd.isna(row['population'])):\n",
    "            data.iloc[i,2] = row['cases100k'] * row['population'] / 100000\n",
    "    if pd.isna(row['cases7days']):\n",
    "        if(not pd.isna(row['cases7days100k'])) & (not pd.isna(row['population'])):\n",
    "            data.iloc[i,4] = row['cases7days100k'] * row['population'] / 100000\n"
   ]
  },
  {
   "cell_type": "code",
   "execution_count": null,
   "id": "aabbbb07",
   "metadata": {
    "id": "aabbbb07",
    "outputId": "a167b594-c7f9-4ddf-a9b7-3f7f4d1670fa",
    "scrolled": false
   },
   "outputs": [
    {
     "data": {
      "text/plain": [
       "name                0\n",
       "region              0\n",
       "cases               0\n",
       "cases100k           0\n",
       "cases7days          0\n",
       "cases7days100k      0\n",
       "cases24h            0\n",
       "deaths              0\n",
       "deaths100k          0\n",
       "deaths7days         0\n",
       "deaths7days100k     0\n",
       "deaths24h           0\n",
       "fatalityrate       15\n",
       "population         12\n",
       "dtype: int64"
      ]
     },
     "execution_count": 79,
     "metadata": {},
     "output_type": "execute_result"
    }
   ],
   "source": [
    "data.isnull().sum()"
   ]
  },
  {
   "cell_type": "code",
   "execution_count": null,
   "id": "5535a443",
   "metadata": {
    "id": "5535a443"
   },
   "outputs": [],
   "source": [
    "data['fatalityrate'] = data['deaths']/data['cases'] * 100"
   ]
  },
  {
   "cell_type": "code",
   "execution_count": null,
   "id": "84047282",
   "metadata": {
    "id": "84047282",
    "outputId": "f21244f5-89c9-44a3-a830-e0c42fa98ad2"
   },
   "outputs": [
    {
     "data": {
      "text/plain": [
       "name                0\n",
       "region              0\n",
       "cases               0\n",
       "cases100k           0\n",
       "cases7days          0\n",
       "cases7days100k      0\n",
       "cases24h            0\n",
       "deaths              0\n",
       "deaths100k          0\n",
       "deaths7days         0\n",
       "deaths7days100k     0\n",
       "deaths24h           0\n",
       "fatalityrate       12\n",
       "population         12\n",
       "dtype: int64"
      ]
     },
     "execution_count": 82,
     "metadata": {},
     "output_type": "execute_result"
    }
   ],
   "source": [
    "data.isnull().sum()"
   ]
  },
  {
   "cell_type": "markdown",
   "id": "5986c42d",
   "metadata": {
    "id": "5986c42d"
   },
   "source": [
    "<p>Now the only NaN values remaining are the ones in population and fatalityrate columns which I will fill with <b>zero</b> because\n",
    "data in the other columns is zero in the original dataframe</p>"
   ]
  },
  {
   "cell_type": "code",
   "execution_count": null,
   "id": "aeb98ac9",
   "metadata": {
    "id": "aeb98ac9"
   },
   "outputs": [],
   "source": [
    "data['population'].fillna(0,inplace=True)\n",
    "data['fatalityrate'].fillna(0,inplace=True)"
   ]
  },
  {
   "cell_type": "markdown",
   "id": "135ab275",
   "metadata": {
    "id": "135ab275"
   },
   "source": [
    "After Data Cleaning"
   ]
  },
  {
   "cell_type": "code",
   "execution_count": null,
   "id": "721f467d",
   "metadata": {
    "id": "721f467d",
    "outputId": "78627fb0-0a24-4568-ef4c-478f2fe92e19"
   },
   "outputs": [
    {
     "data": {
      "text/plain": [
       "name               0\n",
       "region             0\n",
       "cases              0\n",
       "cases100k          0\n",
       "cases7days         0\n",
       "cases7days100k     0\n",
       "cases24h           0\n",
       "deaths             0\n",
       "deaths100k         0\n",
       "deaths7days        0\n",
       "deaths7days100k    0\n",
       "deaths24h          0\n",
       "fatalityrate       0\n",
       "population         0\n",
       "dtype: int64"
      ]
     },
     "execution_count": 84,
     "metadata": {},
     "output_type": "execute_result"
    }
   ],
   "source": [
    "data.isnull().sum()"
   ]
  },
  {
   "cell_type": "markdown",
   "id": "c6edf489",
   "metadata": {
    "id": "c6edf489"
   },
   "source": [
    "<h2>Finding Critical Countries</h2>\n",
    "<p>Code iterates over each row in the dataframe and checks whether the cases reported in last 24 hours is greater than 50 percent \n",
    "of the cases reported in the last 7 days</p>"
   ]
  },
  {
   "cell_type": "code",
   "execution_count": null,
   "id": "4be017df",
   "metadata": {
    "id": "4be017df"
   },
   "outputs": [],
   "source": [
    "critical = []\n",
    "for i in range(data.shape[0]):\n",
    "    row = data.iloc[i]\n",
    "    if row['cases24h'] > 50/100 * row['cases7days']:\n",
    "        critical.append(row['name'])"
   ]
  },
  {
   "cell_type": "code",
   "execution_count": null,
   "id": "7a39ac31",
   "metadata": {
    "id": "7a39ac31",
    "outputId": "9ab166a8-8f7f-4e52-b5cf-12670a203763",
    "scrolled": true
   },
   "outputs": [
    {
     "name": "stdout",
     "output_type": "stream",
     "text": [
      "2\n"
     ]
    }
   ],
   "source": [
    "print(len(critical))"
   ]
  },
  {
   "cell_type": "code",
   "execution_count": null,
   "id": "4a475356",
   "metadata": {
    "id": "4a475356",
    "outputId": "0a513bd9-62c9-4263-cbee-84eb14733828"
   },
   "outputs": [
    {
     "name": "stdout",
     "output_type": "stream",
     "text": [
      "0 Cyprus\n",
      "1 Malawi\n"
     ]
    }
   ],
   "source": [
    "for i, d in enumerate(critical):\n",
    "    print(i, d)"
   ]
  },
  {
   "cell_type": "code",
   "execution_count": null,
   "id": "ca79d9a1",
   "metadata": {
    "id": "ca79d9a1",
    "outputId": "ab664ec3-e1c3-4d31-a2f9-025c3b434ec7",
    "scrolled": true
   },
   "outputs": [
    {
     "data": {
      "text/html": [
       "<div>\n",
       "<style scoped>\n",
       "    .dataframe tbody tr th:only-of-type {\n",
       "        vertical-align: middle;\n",
       "    }\n",
       "\n",
       "    .dataframe tbody tr th {\n",
       "        vertical-align: top;\n",
       "    }\n",
       "\n",
       "    .dataframe thead th {\n",
       "        text-align: right;\n",
       "    }\n",
       "</style>\n",
       "<table border=\"1\" class=\"dataframe\">\n",
       "  <thead>\n",
       "    <tr style=\"text-align: right;\">\n",
       "      <th></th>\n",
       "      <th>name</th>\n",
       "      <th>region</th>\n",
       "      <th>cases</th>\n",
       "      <th>cases100k</th>\n",
       "      <th>cases7days</th>\n",
       "      <th>cases7days100k</th>\n",
       "      <th>cases24h</th>\n",
       "      <th>deaths</th>\n",
       "      <th>deaths100k</th>\n",
       "      <th>deaths7days</th>\n",
       "      <th>deaths7days100k</th>\n",
       "      <th>deaths24h</th>\n",
       "      <th>fatalityrate</th>\n",
       "      <th>population</th>\n",
       "    </tr>\n",
       "  </thead>\n",
       "  <tbody>\n",
       "    <tr>\n",
       "      <th>0</th>\n",
       "      <td>Czechia</td>\n",
       "      <td>Europe</td>\n",
       "      <td>5.663561e+07</td>\n",
       "      <td>17110.32</td>\n",
       "      <td>913428.000000</td>\n",
       "      <td>275.96</td>\n",
       "      <td>146115.0</td>\n",
       "      <td>909950.0</td>\n",
       "      <td>274.910000</td>\n",
       "      <td>15931.000000</td>\n",
       "      <td>4.810000</td>\n",
       "      <td>2446.0</td>\n",
       "      <td>1.606675</td>\n",
       "      <td>3.310027e+08</td>\n",
       "    </tr>\n",
       "    <tr>\n",
       "      <th>1</th>\n",
       "      <td>Hungary</td>\n",
       "      <td>Europe</td>\n",
       "      <td>4.386230e+07</td>\n",
       "      <td>3178.41</td>\n",
       "      <td>192520.000000</td>\n",
       "      <td>13.95</td>\n",
       "      <td>27491.0</td>\n",
       "      <td>582140.0</td>\n",
       "      <td>42.190000</td>\n",
       "      <td>2312.000000</td>\n",
       "      <td>0.170000</td>\n",
       "      <td>350.0</td>\n",
       "      <td>1.327199</td>\n",
       "      <td>1.380008e+09</td>\n",
       "    </tr>\n",
       "    <tr>\n",
       "      <th>2</th>\n",
       "      <td>Saint Vincent and the Grenadines</td>\n",
       "      <td>Americas</td>\n",
       "      <td>2.782745e+07</td>\n",
       "      <td>13091.61</td>\n",
       "      <td>151858.000000</td>\n",
       "      <td>71.44</td>\n",
       "      <td>23141.0</td>\n",
       "      <td>775139.0</td>\n",
       "      <td>364.670000</td>\n",
       "      <td>4186.000000</td>\n",
       "      <td>1.970000</td>\n",
       "      <td>685.0</td>\n",
       "      <td>2.785520</td>\n",
       "      <td>2.125594e+08</td>\n",
       "    </tr>\n",
       "    <tr>\n",
       "      <th>3</th>\n",
       "      <td>Togo</td>\n",
       "      <td>Africa</td>\n",
       "      <td>1.040623e+07</td>\n",
       "      <td>15328.98</td>\n",
       "      <td>309552.000000</td>\n",
       "      <td>455.98</td>\n",
       "      <td>51382.0</td>\n",
       "      <td>177719.0</td>\n",
       "      <td>261.790000</td>\n",
       "      <td>976.000000</td>\n",
       "      <td>1.440000</td>\n",
       "      <td>158.0</td>\n",
       "      <td>1.707813</td>\n",
       "      <td>6.788602e+07</td>\n",
       "    </tr>\n",
       "    <tr>\n",
       "      <th>4</th>\n",
       "      <td>El Salvador</td>\n",
       "      <td>Americas</td>\n",
       "      <td>9.980696e+06</td>\n",
       "      <td>6839.16</td>\n",
       "      <td>235129.000000</td>\n",
       "      <td>161.12</td>\n",
       "      <td>35237.0</td>\n",
       "      <td>277389.0</td>\n",
       "      <td>190.070000</td>\n",
       "      <td>8203.000000</td>\n",
       "      <td>5.630000</td>\n",
       "      <td>1211.0</td>\n",
       "      <td>2.779255</td>\n",
       "      <td>1.459345e+08</td>\n",
       "    </tr>\n",
       "    <tr>\n",
       "      <th>5</th>\n",
       "      <td>Egypt</td>\n",
       "      <td>Eastern Mediterranean</td>\n",
       "      <td>9.515090e+06</td>\n",
       "      <td>11281.95</td>\n",
       "      <td>262880.000000</td>\n",
       "      <td>311.69</td>\n",
       "      <td>38823.0</td>\n",
       "      <td>84826.0</td>\n",
       "      <td>100.577366</td>\n",
       "      <td>1981.967789</td>\n",
       "      <td>2.350000</td>\n",
       "      <td>281.0</td>\n",
       "      <td>0.891489</td>\n",
       "      <td>8.433905e+07</td>\n",
       "    </tr>\n",
       "    <tr>\n",
       "      <th>6</th>\n",
       "      <td>Barbados</td>\n",
       "      <td>Americas</td>\n",
       "      <td>8.827822e+06</td>\n",
       "      <td>13573.04</td>\n",
       "      <td>34876.000000</td>\n",
       "      <td>53.62</td>\n",
       "      <td>5828.0</td>\n",
       "      <td>148327.0</td>\n",
       "      <td>228.060000</td>\n",
       "      <td>286.000000</td>\n",
       "      <td>0.440000</td>\n",
       "      <td>41.0</td>\n",
       "      <td>1.680222</td>\n",
       "      <td>6.503939e+07</td>\n",
       "    </tr>\n",
       "    <tr>\n",
       "      <th>7</th>\n",
       "      <td>Switzerland</td>\n",
       "      <td>Europe</td>\n",
       "      <td>7.338497e+06</td>\n",
       "      <td>8736.66</td>\n",
       "      <td>112571.000000</td>\n",
       "      <td>134.02</td>\n",
       "      <td>15034.0</td>\n",
       "      <td>157796.0</td>\n",
       "      <td>187.860000</td>\n",
       "      <td>2049.000000</td>\n",
       "      <td>2.440000</td>\n",
       "      <td>301.0</td>\n",
       "      <td>2.150250</td>\n",
       "      <td>8.399659e+07</td>\n",
       "    </tr>\n",
       "    <tr>\n",
       "      <th>8</th>\n",
       "      <td>Bahamas</td>\n",
       "      <td>Americas</td>\n",
       "      <td>6.806812e+06</td>\n",
       "      <td>15060.73</td>\n",
       "      <td>10292.000000</td>\n",
       "      <td>22.77</td>\n",
       "      <td>1661.0</td>\n",
       "      <td>149217.0</td>\n",
       "      <td>330.160000</td>\n",
       "      <td>322.000000</td>\n",
       "      <td>0.710000</td>\n",
       "      <td>72.0</td>\n",
       "      <td>2.192172</td>\n",
       "      <td>4.519576e+07</td>\n",
       "    </tr>\n",
       "    <tr>\n",
       "      <th>9</th>\n",
       "      <td>Greenland</td>\n",
       "      <td>Europe</td>\n",
       "      <td>6.429292e+06</td>\n",
       "      <td>13583.22</td>\n",
       "      <td>12366.000000</td>\n",
       "      <td>26.12</td>\n",
       "      <td>1002.0</td>\n",
       "      <td>112129.0</td>\n",
       "      <td>236.890000</td>\n",
       "      <td>149.000000</td>\n",
       "      <td>0.310000</td>\n",
       "      <td>8.0</td>\n",
       "      <td>1.744033</td>\n",
       "      <td>4.733261e+07</td>\n",
       "    </tr>\n",
       "    <tr>\n",
       "      <th>10</th>\n",
       "      <td>Guernsey</td>\n",
       "      <td>Europe</td>\n",
       "      <td>6.422227e+06</td>\n",
       "      <td>12621.58</td>\n",
       "      <td>12931.000000</td>\n",
       "      <td>25.41</td>\n",
       "      <td>1802.0</td>\n",
       "      <td>163583.0</td>\n",
       "      <td>321.480000</td>\n",
       "      <td>292.000000</td>\n",
       "      <td>0.570000</td>\n",
       "      <td>41.0</td>\n",
       "      <td>2.547138</td>\n",
       "      <td>5.088291e+07</td>\n",
       "    </tr>\n",
       "    <tr>\n",
       "      <th>11</th>\n",
       "      <td>Paraguay</td>\n",
       "      <td>Americas</td>\n",
       "      <td>6.068421e+06</td>\n",
       "      <td>10174.84</td>\n",
       "      <td>25765.101682</td>\n",
       "      <td>43.20</td>\n",
       "      <td>3793.0</td>\n",
       "      <td>169676.0</td>\n",
       "      <td>284.493471</td>\n",
       "      <td>358.000000</td>\n",
       "      <td>0.590000</td>\n",
       "      <td>53.0</td>\n",
       "      <td>2.796049</td>\n",
       "      <td>5.964144e+07</td>\n",
       "    </tr>\n",
       "    <tr>\n",
       "      <th>12</th>\n",
       "      <td>Chile</td>\n",
       "      <td>Americas</td>\n",
       "      <td>5.553091e+06</td>\n",
       "      <td>6677.06</td>\n",
       "      <td>72667.000000</td>\n",
       "      <td>87.37</td>\n",
       "      <td>13488.0</td>\n",
       "      <td>121714.0</td>\n",
       "      <td>146.350000</td>\n",
       "      <td>520.000000</td>\n",
       "      <td>0.620000</td>\n",
       "      <td>111.0</td>\n",
       "      <td>2.191824</td>\n",
       "      <td>8.316671e+07</td>\n",
       "    </tr>\n",
       "    <tr>\n",
       "      <th>13</th>\n",
       "      <td>Yemen</td>\n",
       "      <td>Eastern Mediterranean</td>\n",
       "      <td>5.465231e+06</td>\n",
       "      <td>1998.08</td>\n",
       "      <td>11824.000000</td>\n",
       "      <td>4.32</td>\n",
       "      <td>1790.0</td>\n",
       "      <td>184370.0</td>\n",
       "      <td>67.410000</td>\n",
       "      <td>691.000000</td>\n",
       "      <td>0.260000</td>\n",
       "      <td>85.0</td>\n",
       "      <td>3.373508</td>\n",
       "      <td>2.735241e+08</td>\n",
       "    </tr>\n",
       "    <tr>\n",
       "      <th>14</th>\n",
       "      <td>Panama</td>\n",
       "      <td>Americas</td>\n",
       "      <td>4.784643e+06</td>\n",
       "      <td>3710.96</td>\n",
       "      <td>57197.000000</td>\n",
       "      <td>44.36</td>\n",
       "      <td>9954.0</td>\n",
       "      <td>362907.0</td>\n",
       "      <td>281.470000</td>\n",
       "      <td>4704.000000</td>\n",
       "      <td>3.650000</td>\n",
       "      <td>923.0</td>\n",
       "      <td>7.584829</td>\n",
       "      <td>1.289328e+08</td>\n",
       "    </tr>\n",
       "    <tr>\n",
       "      <th>15</th>\n",
       "      <td>Slovakia</td>\n",
       "      <td>Europe</td>\n",
       "      <td>3.774905e+06</td>\n",
       "      <td>9944.92</td>\n",
       "      <td>13490.000000</td>\n",
       "      <td>35.54</td>\n",
       "      <td>2449.0</td>\n",
       "      <td>98075.0</td>\n",
       "      <td>258.370000</td>\n",
       "      <td>217.000000</td>\n",
       "      <td>0.570000</td>\n",
       "      <td>40.0</td>\n",
       "      <td>2.598079</td>\n",
       "      <td>3.795812e+07</td>\n",
       "    </tr>\n",
       "    <tr>\n",
       "      <th>16</th>\n",
       "      <td>Tunisia</td>\n",
       "      <td>Eastern Mediterranean</td>\n",
       "      <td>3.763128e+06</td>\n",
       "      <td>6344.98</td>\n",
       "      <td>9163.000000</td>\n",
       "      <td>15.45</td>\n",
       "      <td>1279.0</td>\n",
       "      <td>113943.0</td>\n",
       "      <td>192.120000</td>\n",
       "      <td>618.000000</td>\n",
       "      <td>1.050000</td>\n",
       "      <td>159.0</td>\n",
       "      <td>3.027880</td>\n",
       "      <td>5.930874e+07</td>\n",
       "    </tr>\n",
       "    <tr>\n",
       "      <th>17</th>\n",
       "      <td>Belgium</td>\n",
       "      <td>Europe</td>\n",
       "      <td>3.405050e+06</td>\n",
       "      <td>3107.34</td>\n",
       "      <td>107290.000000</td>\n",
       "      <td>97.91</td>\n",
       "      <td>12886.0</td>\n",
       "      <td>50356.0</td>\n",
       "      <td>45.950000</td>\n",
       "      <td>832.000000</td>\n",
       "      <td>0.760000</td>\n",
       "      <td>141.0</td>\n",
       "      <td>1.478862</td>\n",
       "      <td>1.095809e+08</td>\n",
       "    </tr>\n",
       "    <tr>\n",
       "      <th>18</th>\n",
       "      <td>Maldives</td>\n",
       "      <td>South-East Asia</td>\n",
       "      <td>3.251310e+06</td>\n",
       "      <td>7434.33</td>\n",
       "      <td>101645.941221</td>\n",
       "      <td>232.42</td>\n",
       "      <td>21161.0</td>\n",
       "      <td>75115.0</td>\n",
       "      <td>171.760000</td>\n",
       "      <td>2115.000000</td>\n",
       "      <td>4.836084</td>\n",
       "      <td>312.0</td>\n",
       "      <td>2.310300</td>\n",
       "      <td>4.373373e+07</td>\n",
       "    </tr>\n",
       "    <tr>\n",
       "      <th>19</th>\n",
       "      <td>Canada</td>\n",
       "      <td>Americas</td>\n",
       "      <td>2.992295e+06</td>\n",
       "      <td>9245.17</td>\n",
       "      <td>87984.000000</td>\n",
       "      <td>271.85</td>\n",
       "      <td>12791.0</td>\n",
       "      <td>35065.0</td>\n",
       "      <td>108.340000</td>\n",
       "      <td>1006.000000</td>\n",
       "      <td>3.100000</td>\n",
       "      <td>171.0</td>\n",
       "      <td>1.171843</td>\n",
       "      <td>3.236604e+07</td>\n",
       "    </tr>\n",
       "  </tbody>\n",
       "</table>\n",
       "</div>"
      ],
      "text/plain": [
       "                                name                 region         cases  \\\n",
       "0                            Czechia                 Europe  5.663561e+07   \n",
       "1                            Hungary                 Europe  4.386230e+07   \n",
       "2   Saint Vincent and the Grenadines               Americas  2.782745e+07   \n",
       "3                               Togo                 Africa  1.040623e+07   \n",
       "4                        El Salvador               Americas  9.980696e+06   \n",
       "5                              Egypt  Eastern Mediterranean  9.515090e+06   \n",
       "6                           Barbados               Americas  8.827822e+06   \n",
       "7                        Switzerland                 Europe  7.338497e+06   \n",
       "8                            Bahamas               Americas  6.806812e+06   \n",
       "9                          Greenland                 Europe  6.429292e+06   \n",
       "10                          Guernsey                 Europe  6.422227e+06   \n",
       "11                          Paraguay               Americas  6.068421e+06   \n",
       "12                             Chile               Americas  5.553091e+06   \n",
       "13                             Yemen  Eastern Mediterranean  5.465231e+06   \n",
       "14                            Panama               Americas  4.784643e+06   \n",
       "15                          Slovakia                 Europe  3.774905e+06   \n",
       "16                           Tunisia  Eastern Mediterranean  3.763128e+06   \n",
       "17                           Belgium                 Europe  3.405050e+06   \n",
       "18                          Maldives        South-East Asia  3.251310e+06   \n",
       "19                            Canada               Americas  2.992295e+06   \n",
       "\n",
       "    cases100k     cases7days  cases7days100k  cases24h    deaths  deaths100k  \\\n",
       "0    17110.32  913428.000000          275.96  146115.0  909950.0  274.910000   \n",
       "1     3178.41  192520.000000           13.95   27491.0  582140.0   42.190000   \n",
       "2    13091.61  151858.000000           71.44   23141.0  775139.0  364.670000   \n",
       "3    15328.98  309552.000000          455.98   51382.0  177719.0  261.790000   \n",
       "4     6839.16  235129.000000          161.12   35237.0  277389.0  190.070000   \n",
       "5    11281.95  262880.000000          311.69   38823.0   84826.0  100.577366   \n",
       "6    13573.04   34876.000000           53.62    5828.0  148327.0  228.060000   \n",
       "7     8736.66  112571.000000          134.02   15034.0  157796.0  187.860000   \n",
       "8    15060.73   10292.000000           22.77    1661.0  149217.0  330.160000   \n",
       "9    13583.22   12366.000000           26.12    1002.0  112129.0  236.890000   \n",
       "10   12621.58   12931.000000           25.41    1802.0  163583.0  321.480000   \n",
       "11   10174.84   25765.101682           43.20    3793.0  169676.0  284.493471   \n",
       "12    6677.06   72667.000000           87.37   13488.0  121714.0  146.350000   \n",
       "13    1998.08   11824.000000            4.32    1790.0  184370.0   67.410000   \n",
       "14    3710.96   57197.000000           44.36    9954.0  362907.0  281.470000   \n",
       "15    9944.92   13490.000000           35.54    2449.0   98075.0  258.370000   \n",
       "16    6344.98    9163.000000           15.45    1279.0  113943.0  192.120000   \n",
       "17    3107.34  107290.000000           97.91   12886.0   50356.0   45.950000   \n",
       "18    7434.33  101645.941221          232.42   21161.0   75115.0  171.760000   \n",
       "19    9245.17   87984.000000          271.85   12791.0   35065.0  108.340000   \n",
       "\n",
       "     deaths7days  deaths7days100k  deaths24h  fatalityrate    population  \n",
       "0   15931.000000         4.810000     2446.0      1.606675  3.310027e+08  \n",
       "1    2312.000000         0.170000      350.0      1.327199  1.380008e+09  \n",
       "2    4186.000000         1.970000      685.0      2.785520  2.125594e+08  \n",
       "3     976.000000         1.440000      158.0      1.707813  6.788602e+07  \n",
       "4    8203.000000         5.630000     1211.0      2.779255  1.459345e+08  \n",
       "5    1981.967789         2.350000      281.0      0.891489  8.433905e+07  \n",
       "6     286.000000         0.440000       41.0      1.680222  6.503939e+07  \n",
       "7    2049.000000         2.440000      301.0      2.150250  8.399659e+07  \n",
       "8     322.000000         0.710000       72.0      2.192172  4.519576e+07  \n",
       "9     149.000000         0.310000        8.0      1.744033  4.733261e+07  \n",
       "10    292.000000         0.570000       41.0      2.547138  5.088291e+07  \n",
       "11    358.000000         0.590000       53.0      2.796049  5.964144e+07  \n",
       "12    520.000000         0.620000      111.0      2.191824  8.316671e+07  \n",
       "13    691.000000         0.260000       85.0      3.373508  2.735241e+08  \n",
       "14   4704.000000         3.650000      923.0      7.584829  1.289328e+08  \n",
       "15    217.000000         0.570000       40.0      2.598079  3.795812e+07  \n",
       "16    618.000000         1.050000      159.0      3.027880  5.930874e+07  \n",
       "17    832.000000         0.760000      141.0      1.478862  1.095809e+08  \n",
       "18   2115.000000         4.836084      312.0      2.310300  4.373373e+07  \n",
       "19   1006.000000         3.100000      171.0      1.171843  3.236604e+07  "
      ]
     },
     "execution_count": 108,
     "metadata": {},
     "output_type": "execute_result"
    }
   ],
   "source": [
    "data.head(20)"
   ]
  },
  {
   "cell_type": "markdown",
   "id": "bc1d2fc7",
   "metadata": {
    "id": "bc1d2fc7"
   },
   "source": [
    "<h3>Comparison between Americas and Europe</h3>"
   ]
  },
  {
   "cell_type": "code",
   "execution_count": null,
   "id": "82da9202",
   "metadata": {
    "id": "82da9202"
   },
   "outputs": [],
   "source": [
    "d1 = {'cases':0,'deaths':0}        \n",
    "d2 = {'cases':0,'deaths':0}\n",
    "\n",
    "for i in range(data.shape[0]):\n",
    "    row = data.iloc[i]\n",
    "    if row['region'] == 'Europe':\n",
    "        d1['cases'] += row['cases']\n",
    "        d1['deaths'] += row['deaths']\n",
    "    if row['region'] == 'Americas':\n",
    "        d2['cases'] += row['cases']\n",
    "        d2['deaths'] += row['deaths']\n",
    "    "
   ]
  },
  {
   "cell_type": "code",
   "execution_count": null,
   "id": "a47dfbc0",
   "metadata": {
    "id": "a47dfbc0",
    "outputId": "c32804cd-d4fa-4d4e-d13a-5a2c286f8e98"
   },
   "outputs": [
    {
     "data": {
      "text/plain": [
       "{'cases': 151315453.76014054, 'deaths': 2485714.759615755}"
      ]
     },
     "execution_count": 116,
     "metadata": {},
     "output_type": "execute_result"
    }
   ],
   "source": [
    "d1"
   ]
  },
  {
   "cell_type": "code",
   "execution_count": null,
   "id": "ae590258",
   "metadata": {
    "id": "ae590258"
   },
   "outputs": [],
   "source": [
    "s3 = pd.Series(d1)"
   ]
  },
  {
   "cell_type": "code",
   "execution_count": null,
   "id": "80aa9340",
   "metadata": {
    "id": "80aa9340",
    "outputId": "4f0097f8-3b28-45d2-89cf-762fb32fe21c",
    "scrolled": true
   },
   "outputs": [
    {
     "data": {
      "text/plain": [
       "cases     1.513155e+08\n",
       "deaths    2.485715e+06\n",
       "dtype: float64"
      ]
     },
     "execution_count": 121,
     "metadata": {},
     "output_type": "execute_result"
    }
   ],
   "source": [
    "s3"
   ]
  },
  {
   "cell_type": "code",
   "execution_count": null,
   "id": "1ef61c28",
   "metadata": {
    "id": "1ef61c28",
    "outputId": "9524ba34-2711-42f2-f468-3fe9e3548fae"
   },
   "outputs": [
    {
     "data": {
      "text/plain": [
       "{'cases': 87102488.0, 'deaths': 2291487.0}"
      ]
     },
     "execution_count": 117,
     "metadata": {},
     "output_type": "execute_result"
    }
   ],
   "source": [
    "d2"
   ]
  },
  {
   "cell_type": "code",
   "execution_count": null,
   "id": "aed1c6ac",
   "metadata": {
    "id": "aed1c6ac"
   },
   "outputs": [],
   "source": [
    "s4 = pd.Series(d2)"
   ]
  },
  {
   "cell_type": "code",
   "execution_count": null,
   "id": "65813969",
   "metadata": {
    "id": "65813969",
    "outputId": "76d2e4fc-31cf-4a7e-8b54-7a9302047d23"
   },
   "outputs": [
    {
     "data": {
      "text/plain": [
       "cases     87102488.0\n",
       "deaths     2291487.0\n",
       "dtype: float64"
      ]
     },
     "execution_count": 123,
     "metadata": {},
     "output_type": "execute_result"
    }
   ],
   "source": [
    "s4"
   ]
  },
  {
   "cell_type": "code",
   "execution_count": null,
   "id": "c72f9dda",
   "metadata": {
    "id": "c72f9dda"
   },
   "outputs": [],
   "source": [
    "compare_df = pd.DataFrame({'Europe':d1,'Americas':d2})"
   ]
  },
  {
   "cell_type": "code",
   "execution_count": null,
   "id": "c9f743ff",
   "metadata": {
    "id": "c9f743ff",
    "outputId": "486604ce-f586-441a-82d4-fc7affc16849"
   },
   "outputs": [
    {
     "data": {
      "text/html": [
       "<div>\n",
       "<style scoped>\n",
       "    .dataframe tbody tr th:only-of-type {\n",
       "        vertical-align: middle;\n",
       "    }\n",
       "\n",
       "    .dataframe tbody tr th {\n",
       "        vertical-align: top;\n",
       "    }\n",
       "\n",
       "    .dataframe thead th {\n",
       "        text-align: right;\n",
       "    }\n",
       "</style>\n",
       "<table border=\"1\" class=\"dataframe\">\n",
       "  <thead>\n",
       "    <tr style=\"text-align: right;\">\n",
       "      <th></th>\n",
       "      <th>Europe</th>\n",
       "      <th>Americas</th>\n",
       "    </tr>\n",
       "  </thead>\n",
       "  <tbody>\n",
       "    <tr>\n",
       "      <th>cases</th>\n",
       "      <td>1.513155e+08</td>\n",
       "      <td>87102488.0</td>\n",
       "    </tr>\n",
       "    <tr>\n",
       "      <th>deaths</th>\n",
       "      <td>2.485715e+06</td>\n",
       "      <td>2291487.0</td>\n",
       "    </tr>\n",
       "  </tbody>\n",
       "</table>\n",
       "</div>"
      ],
      "text/plain": [
       "              Europe    Americas\n",
       "cases   1.513155e+08  87102488.0\n",
       "deaths  2.485715e+06   2291487.0"
      ]
     },
     "execution_count": 126,
     "metadata": {},
     "output_type": "execute_result"
    }
   ],
   "source": [
    "compare_df"
   ]
  },
  {
   "cell_type": "code",
   "execution_count": null,
   "id": "38096ce0",
   "metadata": {
    "id": "38096ce0",
    "outputId": "eaec55c7-49ce-44ae-d310-f973f3b2795a",
    "scrolled": true
   },
   "outputs": [
    {
     "data": {
      "image/png": "[encoded data removed]",
      "text/plain": [
       "<Figure size 432x288 with 1 Axes>"
      ]
     },
     "metadata": {},
     "output_type": "display_data"
    }
   ],
   "source": [
    "import matplotlib.pyplot as plt\n",
    "plt.style.use('ggplot')\n",
    "n = 2\n",
    "eur = compare_df['Europe']\n",
    "amer = compare_df['Americas']\n",
    "fig, ax = plt.subplots()\n",
    "index = np.arange(n)\n",
    "bar_width = 0.35\n",
    "opacity = 0.9\n",
    "ax.bar(index, eur, bar_width, alpha=opacity, color='r',\n",
    "                label='Europe')\n",
    "ax.bar(index+bar_width, amer, bar_width, alpha=opacity, color='b',\n",
    "                label='Americas')\n",
    "ax.set_xlabel('Parameter')\n",
    "ax.set_ylabel('Values')\n",
    "ax.set_title('Europe v/s Americas')\n",
    "ax.set_xticks(index + bar_width / 2)\n",
    "ax.set_xticklabels(('cases','deaths'))\n",
    "ax.legend()\n",
    "plt.show()"
   ]
  },
  {
   "cell_type": "markdown",
   "id": "b25eb9fc",
   "metadata": {
    "id": "b25eb9fc"
   },
   "source": [
    "<h1>Conclusion : Europe has been affected worse than Americas as we can see from the graph that the overall number of cases and deaths is higher in Europe</h1>"
   ]
  }
 ],
 "metadata": {
  "colab": {
   "name": "PES1UG20CS542_COVID_41.ipynb",
   "provenance": []
  },
  "kernelspec": {
   "display_name": "Python 3",
   "language": "python",
   "name": "python3"
  },
  "language_info": {
   "codemirror_mode": {
    "name": "ipython",
    "version": 3
   },
   "file_extension": ".py",
   "mimetype": "text/x-python",
   "name": "python",
   "nbconvert_exporter": "python",
   "pygments_lexer": "ipython3",
   "version": "3.8.8"
  }
 },
 "nbformat": 4,
 "nbformat_minor": 5
}
